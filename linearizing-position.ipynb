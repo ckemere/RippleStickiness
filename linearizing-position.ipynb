{
 "cells": [
  {
   "cell_type": "code",
   "execution_count": 1,
   "metadata": {
    "collapsed": true
   },
   "outputs": [],
   "source": [
    "import numpy as np # primary math library\n",
    "import matplotlib.pyplot as plt # primary plotting library\n",
    "import numpy as np\n",
    "import matplotlib.path as mpath\n",
    "import matplotlib.patches as mpatches\n",
    "import matplotlib.pyplot as plt\n",
    "%matplotlib qt\n",
    "#%matplotlib notebook\n",
    "\n",
    "# %matplotlib inline\n",
    "\n",
    "import nelpy as nel # should be installed using pip install nelpy\n",
    "\n",
    "import warnings\n",
    "#warnings.filterwarnings(\"ignore\") # useful to prevent excess nelpy warnings"
   ]
  },
  {
   "cell_type": "code",
   "execution_count": 2,
   "metadata": {
    "collapsed": true
   },
   "outputs": [],
   "source": [
    "dataroot = '/Users/ckemere/Development/Data/Frank/';"
   ]
  },
  {
   "cell_type": "code",
   "execution_count": 3,
   "metadata": {
    "collapsed": true
   },
   "outputs": [],
   "source": [
    "import os\n",
    "\n",
    "filename = os.path.join(dataroot,'FrankLabData.nel')\n",
    "import pandas as pd\n",
    "import nelpy.io\n",
    "jar = nel.load_pkl(filename)\n"
   ]
  },
  {
   "cell_type": "code",
   "execution_count": 4,
   "metadata": {
    "collapsed": true
   },
   "outputs": [],
   "source": [
    "data = jar.data\n",
    "# if you are interested in the global task structure or characteristics of all the neurons \n",
    "#     recorded, they can be found in Pandas dataframes which are also saved in the file\n",
    "taskinfo = jar.taskinfo\n",
    "cellinfo = jar.cellinfo\n",
    "tetinfo = jar.tetinfo"
   ]
  },
  {
   "cell_type": "code",
   "execution_count": 5,
   "metadata": {
    "collapsed": true
   },
   "outputs": [],
   "source": [
    "import numpy as np\n",
    "def dot_auv(a,u,v):\n",
    "    c = v[0]-u[0], v[1]-u[1]\n",
    "    cnorm = np.sqrt(c[0]*c[0] + c[1]*c[1])\n",
    "    dot = (c[1]*(a[1]-u[1]) + c[0]*(a[0]-u[0])) / cnorm\n",
    "    return dot\n",
    "\n",
    "def proj_auv(u,v,t):\n",
    "    c = v[0]-u[0], v[1]-u[1]\n",
    "    cnorm = np.sqrt(c[0]*c[0] + c[1]*c[1])\n",
    "    return t*c[0]/cnorm + u[0],t*c[1]/cnorm+u[1]\n",
    "\n",
    "class PathInteractor(object):\n",
    "    \"\"\"\n",
    "    An path editor.\n",
    "\n",
    "    Key-bindings\n",
    "\n",
    "      't' toggle vertex markers on and off.  When vertex markers are on,\n",
    "          you can move them, delete them\n",
    "\n",
    "\n",
    "    \"\"\"\n",
    "\n",
    "    showverts = True\n",
    "    epsilon = 5  # max pixel distance to count as a vertex hit\n",
    "\n",
    "    def __init__(self, pathpatch):\n",
    "\n",
    "        self.ax = pathpatch.axes\n",
    "        canvas = self.ax.figure.canvas\n",
    "        self.pathpatch = pathpatch\n",
    "        self.pathpatch.set_animated(True)\n",
    "\n",
    "        x, y = zip(*self.pathpatch.get_path().vertices)\n",
    "\n",
    "        self.line, = ax.plot(x, y, marker='o', color='none',\n",
    "                             markerfacecolor='r', animated=True)\n",
    "\n",
    "        self._ind = None  # the active vert\n",
    "\n",
    "        canvas.mpl_connect('draw_event', self.draw_callback)\n",
    "        canvas.mpl_connect('button_press_event', self.button_press_callback)\n",
    "        canvas.mpl_connect('key_press_event', self.key_press_callback)\n",
    "        canvas.mpl_connect('button_release_event', self.button_release_callback)\n",
    "        canvas.mpl_connect('motion_notify_event', self.motion_notify_callback)\n",
    "        self.canvas = canvas\n",
    "\n",
    "    def draw_callback(self, event):\n",
    "        self.background = self.canvas.copy_from_bbox(self.ax.bbox)\n",
    "        self.ax.draw_artist(self.pathpatch)\n",
    "        self.ax.draw_artist(self.line)\n",
    "        self.canvas.blit(self.ax.bbox)\n",
    "\n",
    "    def pathpatch_changed(self, pathpatch):\n",
    "        'this method is called whenever the pathpatchgon object is called'\n",
    "        # only copy the artist props to the line (except visibility)\n",
    "        vis = self.line.get_visible()\n",
    "        plt.Artist.update_from(self.line, pathpatch)\n",
    "        self.line.set_visible(vis)  # don't use the pathpatch visibility state\n",
    "\n",
    "    def get_ind_under_point(self, event):\n",
    "        'get the index of the vertex under point if within epsilon tolerance'\n",
    "\n",
    "        # display coords\n",
    "        xy = np.asarray(self.pathpatch.get_path().vertices)\n",
    "        xyt = self.pathpatch.get_transform().transform(xy)\n",
    "        xt, yt = xyt[:, 0], xyt[:, 1]\n",
    "        d = np.sqrt((xt - event.x)**2 + (yt - event.y)**2)\n",
    "        ind = d.argmin()\n",
    "\n",
    "        if d[ind] >= self.epsilon:\n",
    "            ind = None\n",
    "\n",
    "        return ind\n",
    "\n",
    "    def button_press_callback(self, event):\n",
    "        'whenever a mouse button is pressed'\n",
    "        if not self.showverts:\n",
    "            return\n",
    "        if event.inaxes is None:\n",
    "            return\n",
    "        if event.button != 1:\n",
    "            return\n",
    "        self._ind = self.get_ind_under_point(event)\n",
    "\n",
    "    def button_release_callback(self, event):\n",
    "        'whenever a mouse button is released'\n",
    "        if not self.showverts:\n",
    "            return\n",
    "        if event.button != 1:\n",
    "            return\n",
    "        self._ind = None\n",
    "\n",
    "    def key_press_callback(self, event):\n",
    "        'whenever a key is pressed'\n",
    "        if not event.inaxes:\n",
    "            return\n",
    "        if event.key == 't':\n",
    "            self.showverts = not self.showverts\n",
    "            self.line.set_visible(self.showverts)\n",
    "            if not self.showverts:\n",
    "                self._ind = None\n",
    "\n",
    "        self.canvas.draw()\n",
    "\n",
    "    def motion_notify_callback(self, event):\n",
    "        'on mouse movement'\n",
    "        if not self.showverts:\n",
    "            return\n",
    "        if self._ind is None:\n",
    "            return\n",
    "        if event.inaxes is None:\n",
    "            return\n",
    "        if event.button != 1:\n",
    "            return\n",
    "        x, y = event.xdata, event.ydata\n",
    "\n",
    "        vertices = self.pathpatch.get_path().vertices\n",
    "\n",
    "        vertices[self._ind] = x, y\n",
    "        \n",
    "        #if (self._ind == 0) | (self._ind ==2) :\n",
    "            # vertices[1] = (vertices[0][0]+vertices[2][0])/2, (vertices[0][1]+vertices[2][1])/2\n",
    "        if (self._ind == 1) :\n",
    "            scaling = dot_auv(vertices[1], vertices[0],vertices[2])\n",
    "            vertices[1] = proj_auv(vertices[0],vertices[2], scaling)\n",
    "            vertices[4] = proj_auv(vertices[5],vertices[3], scaling)\n",
    "        elif (self._ind == 4) :\n",
    "            scaling = dot_auv(vertices[4], vertices[3],vertices[5])\n",
    "            vertices[1] = proj_auv(vertices[0],vertices[2], scaling)\n",
    "            vertices[4] = proj_auv(vertices[5],vertices[3], scaling)\n",
    "        else:\n",
    "            scaling = dot_auv(vertices[1], vertices[0],vertices[2])\n",
    "            vertices[1] = proj_auv(vertices[0],vertices[2], scaling)\n",
    "            scaling = dot_auv(vertices[4], vertices[5],vertices[3])\n",
    "            vertices[4] = proj_auv(vertices[5],vertices[3], scaling)\n",
    "\n",
    "\n",
    "        #if (self._ind == 3) | (self._ind ==5) :\n",
    "            # vertices[4] = (vertices[3][0]+vertices[5][0])/2, (vertices[3][1]+vertices[5][1])/2\n",
    "\n",
    "\n",
    "        self.line.set_data(zip(*vertices))\n",
    "\n",
    "        self.canvas.restore_region(self.background)\n",
    "        self.ax.draw_artist(self.pathpatch)\n",
    "        self.ax.draw_artist(self.line)\n",
    "        self.canvas.blit(self.ax.bbox)\n",
    "\n",
    "\n"
   ]
  },
  {
   "cell_type": "code",
   "execution_count": 9,
   "metadata": {},
   "outputs": [
    {
     "name": "stderr",
     "output_type": "stream",
     "text": [
      "/Users/ckemere/Development/Python/nelpy/nelpy/core/_analogsignalarray.py:449: UserWarning: ignoring signal outside of support\n",
      "/Users/ckemere/Development/Python/nelpy/nelpy/core/_analogsignalarray.py:449: UserWarning: ignoring signal outside of support\n",
      "/Users/ckemere/Development/Python/nelpy/nelpy/core/_analogsignalarray.py:449: UserWarning: ignoring signal outside of support\n",
      "/Users/ckemere/Development/Python/nelpy/nelpy/core/_analogsignalarray.py:449: UserWarning: ignoring signal outside of support\n",
      "/Users/ckemere/Development/Python/nelpy/nelpy/core/_analogsignalarray.py:449: UserWarning: ignoring signal outside of support\n",
      "/Users/ckemere/Development/Python/nelpy/nelpy/core/_analogsignalarray.py:449: UserWarning: ignoring signal outside of support\n",
      "/Users/ckemere/Development/Python/nelpy/nelpy/core/_analogsignalarray.py:449: UserWarning: ignoring signal outside of support\n",
      "/Users/ckemere/Development/Python/nelpy/nelpy/core/_analogsignalarray.py:449: UserWarning: ignoring signal outside of support\n"
     ]
    }
   ],
   "source": [
    "from matplotlib.path import Path\n",
    "\n",
    "x0 = 50\n",
    "dx = 30\n",
    "\n",
    "vertices = [\n",
    "    (x0, x0),\n",
    "    (x0+dx, x0),\n",
    "    (x0+2*dx, x0),\n",
    "    (x0+2*dx, x0+2*dx),\n",
    "    (x0+dx, x0+2*dx),\n",
    "    (x0, x0+2*dx),\n",
    "    (x0, x0),\n",
    "]\n",
    "\n",
    "codes = [Path.MOVETO,\n",
    "         Path.LINETO,\n",
    "         Path.LINETO,\n",
    "         Path.LINETO,\n",
    "         Path.LINETO,\n",
    "         Path.LINETO,\n",
    "         Path.CLOSEPOLY,\n",
    "         ]\n",
    "\n",
    "path = Path(vertices, codes)\n",
    "\n",
    "color_list = ['r','g','b','y','m','c','lightblue','lightgreen','lightred','brown','salmon','pink']\n",
    "fig, ax = plt.subplots()\n",
    "anim = 'Bon'\n",
    "for idx, pp in data[anim].items():\n",
    "    pos = pp['pos']\n",
    "    # Novel\n",
    "    #epochs = taskinfo.query('Animal==@anim & type==\"run\" & environment==\"TrackB\" & Day==@idx').Epoch.tolist()\n",
    "    #if not epochs:\n",
    "    #    continue\n",
    "    # Familiar\n",
    "    epochs = taskinfo.query('Animal==@anim & type==\"run\" & environment==\"TrackA\" & Day==@idx').Epoch.tolist()\n",
    "\n",
    "    if (anim == 'Fra') & (idx == 3):\n",
    "        epochs = [e-1 for e in epochs]\n",
    "        \n",
    "    tvals, vals = pos[epochs,:].asarray() # Access timestamps and channel data as numpy arrays\n",
    "    xvals, yvals = vals # Access two channels as x and y\n",
    "    ax.plot(xvals, yvals, lw=0.5, c='0.3')\n",
    "    #ax.plot(xvals, yvals, lw=0.5, c=color_list.pop())\n",
    "\n",
    "\n",
    "patch = mpatches.PathPatch(path, facecolor='none', edgecolor='blue', linewidth=3, alpha=0.5)\n",
    "ax.add_patch(patch)\n",
    "\n",
    "interactor = PathInteractor(patch)\n",
    "plt.show()\n",
    "\n",
    "\n"
   ]
  },
  {
   "cell_type": "code",
   "execution_count": 7,
   "metadata": {
    "collapsed": true
   },
   "outputs": [],
   "source": [
    "NovelCenterBounds = {}\n",
    "FamiliarCenterBounds = {}"
   ]
  },
  {
   "cell_type": "code",
   "execution_count": 10,
   "metadata": {
    "collapsed": true
   },
   "outputs": [],
   "source": [
    "FamiliarCenterBounds['Bon'] = path.vertices"
   ]
  },
  {
   "cell_type": "code",
   "execution_count": 11,
   "metadata": {
    "collapsed": true
   },
   "outputs": [],
   "source": [
    "FrankLabVertexData = nel.ResultsContainer(FamiliarCenterBounds=FamiliarCenterBounds,\n",
    "                                          NovelCenterBounds=NovelCenterBounds,\n",
    "                                    description='Data from the lab of Loren Frank CRCNS archive.\\n')"
   ]
  },
  {
   "cell_type": "code",
   "execution_count": 12,
   "metadata": {
    "collapsed": true
   },
   "outputs": [],
   "source": [
    "FrankLabVertexData.save_pkl('FrankLabCenterArm.nel')"
   ]
  }
 ],
 "metadata": {
  "anaconda-cloud": {},
  "kernelspec": {
   "display_name": "Python [default]",
   "language": "python",
   "name": "python3"
  },
  "language_info": {
   "codemirror_mode": {
    "name": "ipython",
    "version": 3
   },
   "file_extension": ".py",
   "mimetype": "text/x-python",
   "name": "python",
   "nbconvert_exporter": "python",
   "pygments_lexer": "ipython3",
   "version": "3.5.2"
  }
 },
 "nbformat": 4,
 "nbformat_minor": 2
}
