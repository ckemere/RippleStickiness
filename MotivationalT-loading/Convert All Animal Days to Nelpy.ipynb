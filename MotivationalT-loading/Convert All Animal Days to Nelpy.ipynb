{
 "cells": [
  {
   "cell_type": "code",
   "execution_count": 7,
   "metadata": {},
   "outputs": [
    {
     "data": {
      "text/plain": [
       "'calebs-skylake-ubuntu-1604'"
      ]
     },
     "execution_count": 7,
     "metadata": {},
     "output_type": "execute_result"
    }
   ],
   "source": [
    "import socket\n",
    "socket.gethostname()"
   ]
  },
  {
   "cell_type": "code",
   "execution_count": 8,
   "metadata": {},
   "outputs": [
    {
     "name": "stderr",
     "output_type": "stream",
     "text": [
      "/home/kemerelab/anaconda3/lib/python3.6/site-packages/matplotlib/cbook/deprecation.py:106: MatplotlibDeprecationWarning: The mpl_toolkits.axes_grid module was deprecated in version 2.1. Use mpl_toolkits.axes_grid1 and mpl_toolkits.axisartist provies the same functionality instead.\n"
     ]
    }
   ],
   "source": [
    "import os\n",
    "import sys\n",
    "import numpy as np\n",
    "import nept\n",
    "import nelpy as nel\n",
    "import matplotlib.pyplot as plt\n",
    "%matplotlib inline"
   ]
  },
  {
   "cell_type": "code",
   "execution_count": 9,
   "metadata": {
    "collapsed": true
   },
   "outputs": [],
   "source": [
    "dataroot = '/home/kemerelab/Data/motivational-t'"
   ]
  },
  {
   "cell_type": "markdown",
   "metadata": {},
   "source": [
    "# Find all rats and days"
   ]
  },
  {
   "cell_type": "code",
   "execution_count": 10,
   "metadata": {},
   "outputs": [],
   "source": [
    "from glob import glob\n",
    "alldirs = glob(os.path.join(dataroot,'*/'))\n"
   ]
  },
  {
   "cell_type": "code",
   "execution_count": 11,
   "metadata": {},
   "outputs": [],
   "source": [
    "import re \n",
    "datadirs = [re.match(r'.*(R\\d\\d\\d-\\d\\d\\d\\d-\\d\\d-\\d\\d)', x).group(1) for x in alldirs \n",
    "     if re.match(r'.*(R\\d\\d\\d-\\d\\d\\d\\d-\\d\\d-\\d\\d)', x)]"
   ]
  },
  {
   "cell_type": "code",
   "execution_count": 4,
   "metadata": {},
   "outputs": [
    {
     "ename": "NameError",
     "evalue": "name 'datadirs' is not defined",
     "output_type": "error",
     "traceback": [
      "\u001b[0;31m---------------------------------------------------------------------------\u001b[0m",
      "\u001b[0;31mNameError\u001b[0m                                 Traceback (most recent call last)",
      "\u001b[0;32m<ipython-input-4-d6a278ffde90>\u001b[0m in \u001b[0;36m<module>\u001b[0;34m()\u001b[0m\n\u001b[0;32m----> 1\u001b[0;31m \u001b[0mdatadirs\u001b[0m\u001b[0;34m\u001b[0m\u001b[0m\n\u001b[0m",
      "\u001b[0;31mNameError\u001b[0m: name 'datadirs' is not defined"
     ]
    }
   ],
   "source": [
    "datadirs"
   ]
  },
  {
   "cell_type": "code",
   "execution_count": 12,
   "metadata": {
    "collapsed": true
   },
   "outputs": [],
   "source": [
    "# fix annoying 'display last result only' behavior\n",
    "from IPython.core.interactiveshell import InteractiveShell\n",
    "InteractiveShell.ast_node_interactivity = \"all\"\n"
   ]
  },
  {
   "cell_type": "code",
   "execution_count": 13,
   "metadata": {},
   "outputs": [],
   "source": [
    "# Info from ExpKeys\n",
    "CONST_conv_fact = {}\n",
    "CONST_conv_fact['R042'] = [2.9176, 2.3794]\n",
    "CONST_conv_fact['R050'] = [2.6853, 2.6169]\n",
    "CONST_conv_fact['R064'] = [2.6497, 2.6485]\n"
   ]
  },
  {
   "cell_type": "code",
   "execution_count": 29,
   "metadata": {},
   "outputs": [
    {
     "name": "stdout",
     "output_type": "stream",
     "text": [
      "R042 2013-08-16\n",
      "/home/kemerelab/Data/motivational-t/R042-2013-08-16/R042-2013-08-16-VT1.zip\n"
     ]
    },
    {
     "data": {
      "text/plain": [
       "(120390, 2)"
      ]
     },
     "execution_count": 29,
     "metadata": {},
     "output_type": "execute_result"
    },
    {
     "name": "stderr",
     "output_type": "stream",
     "text": [
      "/home/kemerelab/Code/nelpy/nelpy/core/_analogsignalarray.py:360: UserWarning: creating support from time and sampling rate, fs!\n",
      "/home/kemerelab/Code/nelpy/nelpy/utils.py:549: UserWarning: some steps in the data are smaller than the requested step size.\n"
     ]
    }
   ],
   "source": [
    "import zipfile\n",
    "import scipy.io as sio\n",
    "\n",
    "\n",
    "Data = {}\n",
    "for ddir in datadirs:\n",
    "    dayinf = re.match(r'(R\\d\\d\\d)-(\\d\\d\\d\\d-\\d\\d-\\d\\d)', ddir)\n",
    "    anim = dayinf.group(1)\n",
    "    day = dayinf.group(2)\n",
    "    print(anim,day)\n",
    "    if anim not in Data:\n",
    "        Data[anim] = {}\n",
    "    \n",
    "    # define some testing data file locations\n",
    "    fn = os.path.join(dataroot,ddir) # need function that makes list of all folders\n",
    "    \n",
    "    \n",
    "    fn_vt = ddir + '-VT1.zip'\n",
    "    fn_vt = os.path.join(dataroot, ddir, fn_vt)\n",
    "    print(fn_vt)\n",
    "    with zipfile.ZipFile(fn_vt,\"r\") as zip_ref:\n",
    "        zip_ref.extractall(\"/tmp\")\n",
    "    tmp_vt = '/tmp/VT1.nvt'\n",
    "    \n",
    "    # Load position (.nvt) from this experiment\n",
    "    position = nept.load_position(tmp_vt,CONST_conv_fact[anim])\n",
    "    \n",
    "    # vt is a 2-D AnalogSignalArray -- note has bigger gaps in data b/c tracking LEDs get obscured\n",
    "    vt_nelpy = np.stack((position.x,position.y),1)\n",
    "    vt_nelpy.shape\n",
    "    # with warnings.catch_warnings():\n",
    "    #    warnings.simplefilter(\"ignore\")\n",
    "    vt_nelpy = nel.AnalogSignalArray(ydata=vt_nelpy.T,timestamps=position.time,merge_sample_gap=10,fs=30)\n",
    "\n",
    "    Data[anim][day] = {}\n",
    "    Data[anim][day]['pos'] = vt_nelpy\n",
    "    del position\n",
    "    \n",
    "    spikes = nept.load_spikes(os.path.join(dataroot, ddirfd))\n",
    "    spikes_list = [ss.time for ss in spikes]\n",
    "\n",
    "    \n",
    "    # load ripple \"candidates\"\n",
    "    fn_cand = ddir + '-candidates.mat'\n",
    "    cand = sio.loadmat(os.path.join(dataroot,ddir,fn_cand))\n",
    "    \n",
    "    break\n"
   ]
  },
  {
   "cell_type": "code",
   "execution_count": null,
   "metadata": {
    "collapsed": true
   },
   "outputs": [],
   "source": []
  },
  {
   "cell_type": "code",
   "execution_count": null,
   "metadata": {
    "collapsed": true
   },
   "outputs": [],
   "source": [
    "Data = {}\n",
    "Data['R042'] = {}\n",
    "Data['R042']['2013-08-18'] = {}"
   ]
  },
  {
   "cell_type": "code",
   "execution_count": null,
   "metadata": {
    "collapsed": true
   },
   "outputs": [],
   "source": [
    "# Load position (.nvt) from this experiment\n",
    "position = nept.load_position(os.path.join(dataroot, fd, fn_vt),CONST_conv_fact)\n",
    "\n",
    "# Plot the position\n",
    "plt.plot(position.x, position.y, 'k.', ms=1)\n",
    "plt.show()"
   ]
  },
  {
   "cell_type": "code",
   "execution_count": null,
   "metadata": {
    "collapsed": true
   },
   "outputs": [],
   "source": [
    "# load spikes\n",
    "spikes = nept.load_spikes(os.path.join(dataroot, fd))\n",
    "spikes_list = [ss.time for ss in spikes]\n",
    "\n",
    "# Plot the spikes\n",
    "# for idx, spiketrain in enumerate(spikes):\n",
    "#     plt.plot(spiketrain.time, np.ones(len(spiketrain.time))+idx, '|');\n",
    "# plt.show()"
   ]
  },
  {
   "cell_type": "code",
   "execution_count": null,
   "metadata": {
    "collapsed": true
   },
   "outputs": [],
   "source": [
    "# load candidates\n",
    "fn_cand = 'R042-2013-08-18-candidates.mat'\n",
    "import scipy.io as sio\n",
    "cand = sio.loadmat(os.path.join(dataroot,fd,fn_cand))"
   ]
  },
  {
   "cell_type": "code",
   "execution_count": null,
   "metadata": {
    "collapsed": true
   },
   "outputs": [],
   "source": [
    "tstart = cand['evt'][0][0]['tstart']\n",
    "tend = cand['evt'][0][0]['tend']\n",
    "\n",
    "Data['R042']['2013-08-18']['event-candidates'] = nel.EpochArray(np.hstack([tstart, tend]))"
   ]
  },
  {
   "cell_type": "code",
   "execution_count": null,
   "metadata": {
    "collapsed": true
   },
   "outputs": [],
   "source": [
    "metadata = sio.loadmat(os.path.join(dataroot,fd,'R042-2013-08-18-metadata.mat'))"
   ]
  },
  {
   "cell_type": "code",
   "execution_count": null,
   "metadata": {
    "collapsed": true
   },
   "outputs": [],
   "source": [
    "taskvars = metadata['metadata'][0][0]['taskvars'][0][0]\n",
    "metavars = list(taskvars.dtype.fields.keys())\n",
    "iv_metavars = list(filter(lambda mv: 'iv' in mv, metavars))\n",
    "\n",
    "for mv in iv_metavars:\n",
    "    tstart = taskvars[mv][0][0]['tstart']\n",
    "    tend = taskvars[mv][0][0]['tend']\n",
    "    Data['R042']['2013-08-18'][mv] = nel.EpochArray(np.hstack([tstart, tend]))\n",
    "    \n",
    "sequence = [choice[0] for choice in taskvars['sequence'][0]]\n",
    "Data['R042']['2013-08-18']['sequence'] = sequence"
   ]
  },
  {
   "cell_type": "code",
   "execution_count": null,
   "metadata": {
    "collapsed": true
   },
   "outputs": [],
   "source": [
    "taskvars.dtype.fields.keys()"
   ]
  },
  {
   "cell_type": "code",
   "execution_count": null,
   "metadata": {
    "collapsed": true
   },
   "outputs": [],
   "source": [
    "Data['R042']['2013-08-18'].keys()"
   ]
  },
  {
   "cell_type": "code",
   "execution_count": null,
   "metadata": {
    "collapsed": true
   },
   "outputs": [],
   "source": [
    "nel_spikes = nel.SpikeTrainArray(spikes_list)\n",
    "\n",
    "Data['R042']['2013-08-18']['spikes'] = nel_spikes"
   ]
  },
  {
   "cell_type": "markdown",
   "metadata": {},
   "source": [
    "# Figure out bounds of arms"
   ]
  },
  {
   "cell_type": "code",
   "execution_count": null,
   "metadata": {
    "collapsed": true
   },
   "outputs": [],
   "source": [
    "runpos = vt_nelpy[Data['R042']['2013-08-18']['trial_iv'],:]\n",
    "\n",
    "fig, ax = plt.subplots(1,1, figsize = (8, 8))\n",
    "\n",
    "xvals, yvals = runpos.simplify(n_points=5000).asarray().yvals\n",
    "ax.set_aspect('equal')\n",
    "ax.plot(xvals, yvals, lw=0.25, color='k', alpha=0.5)\n",
    "\n",
    "from shapely.geometry import box\n",
    "from descartes.patch import PolygonPatch # conda install -c conda-forge descartes\n",
    "\n",
    "RightArmCoords = [150,0,225,85]\n",
    "b_right = box(*RightArmCoords)\n",
    "ax.add_patch(PolygonPatch(b_right))\n",
    "\n",
    "LeftArmCoords = [150,120,225,220]\n",
    "b_left = box(*LeftArmCoords)\n",
    "ax.add_patch(PolygonPatch(b_left))\n",
    "\n",
    "Data['R042']['2013-08-18']['LeftArmRect'] = LeftArmCoords\n",
    "Data['R042']['2013-08-18']['RightArmRect'] = RightArmCoords"
   ]
  },
  {
   "cell_type": "code",
   "execution_count": null,
   "metadata": {
    "collapsed": true
   },
   "outputs": [],
   "source": [
    "import nelpy.io\n",
    "MVDMData = nel.ResultsContainer(Data=Data,\n",
    "                                    description='Test dataset - R042 2013-08-18.\\n')"
   ]
  },
  {
   "cell_type": "code",
   "execution_count": null,
   "metadata": {
    "collapsed": true
   },
   "outputs": [],
   "source": [
    "MVDMData.save_pkl('/home/kemerelab/Data/MVDMData.nel')"
   ]
  }
 ],
 "metadata": {
  "kernelspec": {
   "display_name": "Python 3",
   "language": "python",
   "name": "python3"
  },
  "language_info": {
   "codemirror_mode": {
    "name": "ipython",
    "version": 3
   },
   "file_extension": ".py",
   "mimetype": "text/x-python",
   "name": "python",
   "nbconvert_exporter": "python",
   "pygments_lexer": "ipython3",
   "version": "3.6.3"
  }
 },
 "nbformat": 4,
 "nbformat_minor": 2
}
