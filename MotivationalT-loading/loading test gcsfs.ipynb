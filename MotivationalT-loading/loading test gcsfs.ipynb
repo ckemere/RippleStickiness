{
 "cells": [
  {
   "cell_type": "code",
   "execution_count": 1,
   "metadata": {},
   "outputs": [
    {
     "data": {
      "text/plain": [
       "'calebs-instance-2'"
      ]
     },
     "execution_count": 1,
     "metadata": {},
     "output_type": "execute_result"
    }
   ],
   "source": [
    "import socket\n",
    "socket.gethostname()"
   ]
  },
  {
   "cell_type": "code",
   "execution_count": 2,
   "metadata": {
    "collapsed": true
   },
   "outputs": [],
   "source": [
    "import gcsfs"
   ]
  },
  {
   "cell_type": "code",
   "execution_count": 3,
   "metadata": {
    "collapsed": true
   },
   "outputs": [],
   "source": [
    "fs = gcsfs.GCSFileSystem(project='mvdmlab', token='cloud')"
   ]
  },
  {
   "cell_type": "code",
   "execution_count": 4,
   "metadata": {},
   "outputs": [
    {
     "data": {
      "text/plain": [
       "['motivational-t/R042/R042-2013-08-16.zip',\n",
       " 'motivational-t/R042/R042-2013-08-17.zip',\n",
       " 'motivational-t/R042/R042-2013-08-18/',\n",
       " 'motivational-t/R042/R042-2013-08-19.zip',\n",
       " 'motivational-t/R042/R042-2013-08-19/',\n",
       " 'motivational-t/R042/R042-2013-08-20.zip',\n",
       " 'motivational-t/R042/R042-2013-08-21.zip']"
      ]
     },
     "execution_count": 4,
     "metadata": {},
     "output_type": "execute_result"
    }
   ],
   "source": [
    "fs.ls('motivational-t/R042')"
   ]
  },
  {
   "cell_type": "code",
   "execution_count": 5,
   "metadata": {},
   "outputs": [],
   "source": [
    "import os\n",
    "import sys\n",
    "import numpy as np\n",
    "import nept\n",
    "import matplotlib.pyplot as plt\n"
   ]
  },
  {
   "cell_type": "code",
   "execution_count": null,
   "metadata": {
    "collapsed": true
   },
   "outputs": [],
   "source": []
  },
  {
   "cell_type": "code",
   "execution_count": 6,
   "metadata": {
    "collapsed": true
   },
   "outputs": [],
   "source": [
    "\n",
    "# define some testing data file locations\n",
    "fd = 'motivational-t/R042/R042-2013-08-18/' # need function that makes list of all folders\n",
    "fn_lfp = 'R042-2013-08-18-CSC11a.ncs' # from *keys.m, need loader to make file into dict\n",
    "fn_vt = 'VT1.nvt'\n",
    "CONST_conv_fact = [2.9176, 2.3794] # pixels to cm conversion for x, y (also from ExpKeys)\n",
    "\n",
    "# fix annoying 'display last result only' behavior\n",
    "from IPython.core.interactiveshell import InteractiveShell\n",
    "InteractiveShell.ast_node_interactivity = \"all\""
   ]
  },
  {
   "cell_type": "code",
   "execution_count": null,
   "metadata": {
    "collapsed": true
   },
   "outputs": [],
   "source": [
    "# load and show lfp using nept loaders\n",
    "lfp = nept.load_lfp(os.path.join(fd,fn_lfp))\n",
    "\n",
    "start = 4261\n",
    "stop = 4262\n",
    "lfpR = lfp.time_slice(start, stop)\n",
    "\n",
    "#plt.plot(lfp.time, lfp.data)\n",
    "plt.plot(lfpR.time, lfpR.data)\n",
    "plt.show()"
   ]
  },
  {
   "cell_type": "code",
   "execution_count": null,
   "metadata": {
    "collapsed": true
   },
   "outputs": [],
   "source": [
    "# Load position (.nvt) from this experiment\n",
    "position = nept.load_position(os.path.join(fd, fn_vt),CONST_conv_fact)\n",
    "\n",
    "# Plot the position\n",
    "plt.plot(position.x, position.y, 'k.', ms=1)\n",
    "plt.show()"
   ]
  },
  {
   "cell_type": "code",
   "execution_count": null,
   "metadata": {
    "collapsed": true
   },
   "outputs": [],
   "source": [
    "# load spikes\n",
    "spikes = nept.load_spikes(fd)\n",
    "\n",
    "# Plot the spikes\n",
    "for idx, spiketrain in enumerate(spikes):\n",
    "    plt.plot(spiketrain.time, np.ones(len(spiketrain.time))+idx, '|')\n",
    "plt.show()"
   ]
  },
  {
   "cell_type": "code",
   "execution_count": null,
   "metadata": {
    "collapsed": true
   },
   "outputs": [],
   "source": [
    "# construct corresponding objects in nelpy\n",
    "import nelpy as nel"
   ]
  },
  {
   "cell_type": "code",
   "execution_count": null,
   "metadata": {
    "collapsed": true
   },
   "outputs": [],
   "source": [
    "# lfp should be AnalogSignalArray\n",
    "lfp_nelpy = nel.AnalogSignalArray(ydata=lfp.data,timestamps=lfp.time,merge_sample_gap=1)\n",
    "print(lfp_nelpy)"
   ]
  },
  {
   "cell_type": "code",
   "execution_count": null,
   "metadata": {
    "collapsed": true
   },
   "outputs": [],
   "source": [
    "# vt is a 2-D AnalogSignalArray -- note has bigger gaps in data b/c tracking LEDs get obscured\n",
    "vt_nelpy = np.stack((position.x,position.y),1)\n",
    "vt_nelpy.shape\n",
    "vt_nelpy = nel.AnalogSignalArray(ydata=vt_nelpy.T,timestamps=position.time,merge_sample_gap=10)\n",
    "print(vt_nelpy)"
   ]
  },
  {
   "cell_type": "code",
   "execution_count": null,
   "metadata": {
    "collapsed": true
   },
   "outputs": [],
   "source": [
    "# load candidates\n",
    "fn_cand = 'R042-2013-08-18-candidates.mat'\n",
    "import scipy.io as sio\n",
    "cand = sio.loadmat(os.path.join(fd,fn_cand))"
   ]
  },
  {
   "cell_type": "code",
   "execution_count": null,
   "metadata": {
    "collapsed": true
   },
   "outputs": [],
   "source": [
    "tstart = cand['evt'][0][0]['tstart']\n",
    "tend = cand['evt'][0][0]['tend']"
   ]
  }
 ],
 "metadata": {
  "kernelspec": {
   "display_name": "Python 3",
   "language": "python",
   "name": "python3"
  },
  "language_info": {
   "codemirror_mode": {
    "name": "ipython",
    "version": 3
   },
   "file_extension": ".py",
   "mimetype": "text/x-python",
   "name": "python",
   "nbconvert_exporter": "python",
   "pygments_lexer": "ipython3",
   "version": "3.6.3"
  }
 },
 "nbformat": 4,
 "nbformat_minor": 2
}
