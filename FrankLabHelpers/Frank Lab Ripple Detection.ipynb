{
 "cells": [
  {
   "cell_type": "code",
   "execution_count": 1,
   "metadata": {
    "collapsed": true
   },
   "outputs": [],
   "source": [
    "import numpy as np # primary math library\n",
    "import matplotlib.pyplot as plt # primary plotting library\n",
    "%matplotlib inline\n",
    "\n",
    "import nelpy as nel # should be installed using pip install nelpy\n",
    "\n",
    "import warnings\n",
    "#warnings.filterwarnings(\"ignore\") # useful to prevent excess nelpy warnings"
   ]
  },
  {
   "cell_type": "code",
   "execution_count": 2,
   "metadata": {
    "collapsed": true
   },
   "outputs": [],
   "source": [
    "import os\n",
    "\n",
    "dataroot = '/Users/ckemere/Development/Data/Frank/';\n",
    "\n",
    "filename = os.path.join(dataroot,'FrankLabData.nel')\n",
    "import pandas as pd\n",
    "import nelpy.io\n",
    "jar = nel.load_pkl(filename)\n",
    "\n",
    "data = jar.data\n",
    "tetinfo = jar.tetinfo\n",
    "cellinfo = jar.cellinfo\n",
    "taskinfo = jar.taskinfo\n",
    "del jar"
   ]
  },
  {
   "cell_type": "code",
   "execution_count": 3,
   "metadata": {
    "collapsed": true
   },
   "outputs": [],
   "source": [
    "def detect_ripples(eeg):\n",
    "    \"\"\"Detect sharp wave ripples (SWRs) from single channel eeg (AnalogSignalArray).\n",
    "    \"\"\"\n",
    "    \n",
    "    # Maggie defines ripples by doing:\n",
    "    #  (1) filter 150-250\n",
    "    #  (2) hilbert envelope\n",
    "    #  (3) smooth with Gaussian (4 ms SD)\n",
    "    #  (4) 3.5 SD above the mean for 15 ms\n",
    "    #  (5) full ripple defined as window back to mean\n",
    "\n",
    "    assert eeg.n_signals == 1, \"only single channel ripple detection currently supported!\"\n",
    "    \n",
    "    # (1)\n",
    "    ripple_eeg = nel.filtering.sosfiltfilt(eeg, fl=150, fh=250)\n",
    "    # (2, 3)\n",
    "    ripple_envelope = nel.utils.signal_envelope1D(ripple_eeg, sigma=0.004)\n",
    "    # (4, 5)\n",
    "    bounds, maxes, events = nel.utils.get_events_boundaries(\n",
    "                x=ripple_envelope.ydata,\n",
    "                PrimaryThreshold=ripple_envelope.mean() + 3.5*ripple_envelope.std(),   # cm/s\n",
    "                SecondaryThreshold=ripple_envelope.mean(),  # cm/s\n",
    "                minThresholdLength=0.015, # threshold crossing must be at least 15 ms long\n",
    "                minLength=0.0, # total ripple duration must be at least XXX ms long\n",
    "                ds = 1/ripple_envelope.fs\n",
    "            )\n",
    "\n",
    "    # convert bounds (in samples) to time in seconds\n",
    "    timebounds = ripple_envelope.time[bounds]\n",
    "\n",
    "    # add 1/fs to stops for open interval\n",
    "    timebounds[:,1] += 1/eeg.fs\n",
    "\n",
    "    # create EpochArray with bounds\n",
    "    ripple_epochs = nel.EpochArray(timebounds)\n",
    "    return ripple_epochs\n",
    "    "
   ]
  },
  {
   "cell_type": "code",
   "execution_count": 12,
   "metadata": {
    "collapsed": true
   },
   "outputs": [],
   "source": [
    "import frank_lab # Caleb's loading routines; modified a bit to support verbose keyword consistently,\n",
    "                 # and for dealing with known Con gotcha in Windows \n",
    "                 # (see e.g. https://fossbytes.com/windows-reserved-folder-con-create/)"
   ]
  },
  {
   "cell_type": "code",
   "execution_count": 13,
   "metadata": {},
   "outputs": [
    {
     "name": "stdout",
     "output_type": "stream",
     "text": [
      "[('Bon', '/Users/ckemere/Development/Data/Frank/Bon'), ('Con', '/Users/ckemere/Development/Data/Frank/Con'), ('Eig', '/Users/ckemere/Development/Data/Frank/Eig'), ('Fra', '/Users/ckemere/Development/Data/Frank/Fra'), ('Ten', '/Users/ckemere/Development/Data/Frank/Ten')]\n"
     ]
    }
   ],
   "source": [
    "import os\n",
    "anim_dirs = [(d[:3], os.path.join(dataroot,d)) for d in os.listdir(dataroot) if os.path.isdir(os.path.join(dataroot,d))]\n",
    "print(anim_dirs)"
   ]
  },
  {
   "cell_type": "code",
   "execution_count": 43,
   "metadata": {},
   "outputs": [
    {
     "name": "stdout",
     "output_type": "stream",
     "text": [
      "Loading boneeg03-1-11.mat\n",
      "Loading boneeg03-2-11.mat\n",
      "Loading boneeg03-3-11.mat\n",
      "Loading boneeg03-4-11.mat\n",
      "Loading boneeg03-5-11.mat\n",
      "Loading boneeg03-6-11.mat\n",
      "Loading boneeg03-7-11.mat\n"
     ]
    },
    {
     "name": "stderr",
     "output_type": "stream",
     "text": [
      "/Users/ckemere/Development/Python/nelpy/nelpy/core/_analogsignalarray.py:360: UserWarning: creating support from time and sampling rate, fs!\n",
      "/Users/ckemere/Development/Python/nelpy/nelpy/utils.py:549: UserWarning: some steps in the data are smaller than the requested step size.\n"
     ]
    },
    {
     "name": "stdout",
     "output_type": "stream",
     "text": [
      "Loading boneeg03-1-12.mat\n",
      "Loading boneeg03-2-12.mat\n",
      "Loading boneeg03-3-12.mat\n",
      "Loading boneeg03-4-12.mat\n",
      "Loading boneeg03-5-12.mat\n",
      "Loading boneeg03-6-12.mat\n",
      "Loading boneeg03-7-12.mat\n"
     ]
    },
    {
     "name": "stderr",
     "output_type": "stream",
     "text": [
      "/Users/ckemere/Development/Python/nelpy/nelpy/core/_analogsignalarray.py:360: UserWarning: creating support from time and sampling rate, fs!\n",
      "/Users/ckemere/Development/Python/nelpy/nelpy/utils.py:549: UserWarning: some steps in the data are smaller than the requested step size.\n"
     ]
    },
    {
     "name": "stdout",
     "output_type": "stream",
     "text": [
      "Loading boneeg03-1-13.mat\n",
      "Loading boneeg03-2-13.mat\n",
      "Loading boneeg03-3-13.mat\n",
      "Loading boneeg03-4-13.mat\n",
      "Loading boneeg03-5-13.mat\n",
      "Loading boneeg03-6-13.mat\n",
      "Loading boneeg03-7-13.mat\n"
     ]
    },
    {
     "name": "stderr",
     "output_type": "stream",
     "text": [
      "/Users/ckemere/Development/Python/nelpy/nelpy/core/_analogsignalarray.py:360: UserWarning: creating support from time and sampling rate, fs!\n",
      "/Users/ckemere/Development/Python/nelpy/nelpy/utils.py:549: UserWarning: some steps in the data are smaller than the requested step size.\n"
     ]
    },
    {
     "name": "stdout",
     "output_type": "stream",
     "text": [
      "Loading boneeg03-1-14.mat\n",
      "Loading boneeg03-2-14.mat\n",
      "Loading boneeg03-3-14.mat\n",
      "Loading boneeg03-4-14.mat\n",
      "Loading boneeg03-5-14.mat\n",
      "Loading boneeg03-6-14.mat\n",
      "Loading boneeg03-7-14.mat\n"
     ]
    },
    {
     "name": "stderr",
     "output_type": "stream",
     "text": [
      "/Users/ckemere/Development/Python/nelpy/nelpy/core/_analogsignalarray.py:360: UserWarning: creating support from time and sampling rate, fs!\n",
      "/Users/ckemere/Development/Python/nelpy/nelpy/utils.py:549: UserWarning: some steps in the data are smaller than the requested step size.\n"
     ]
    },
    {
     "name": "stdout",
     "output_type": "stream",
     "text": [
      "Loading boneeg03-1-17.mat\n",
      "Loading boneeg03-2-17.mat\n",
      "Loading boneeg03-3-17.mat\n",
      "Loading boneeg03-4-17.mat\n",
      "Loading boneeg03-5-17.mat\n",
      "Loading boneeg03-6-17.mat\n",
      "Loading boneeg03-7-17.mat\n"
     ]
    },
    {
     "name": "stderr",
     "output_type": "stream",
     "text": [
      "/Users/ckemere/Development/Python/nelpy/nelpy/core/_analogsignalarray.py:360: UserWarning: creating support from time and sampling rate, fs!\n",
      "/Users/ckemere/Development/Python/nelpy/nelpy/utils.py:549: UserWarning: some steps in the data are smaller than the requested step size.\n"
     ]
    },
    {
     "name": "stdout",
     "output_type": "stream",
     "text": [
      "Loading boneeg03-1-03.mat\n",
      "Loading boneeg03-2-03.mat\n",
      "Loading boneeg03-3-03.mat\n",
      "Loading boneeg03-4-03.mat\n",
      "Loading boneeg03-5-03.mat\n",
      "Loading boneeg03-6-03.mat\n",
      "Loading boneeg03-7-03.mat\n"
     ]
    },
    {
     "name": "stderr",
     "output_type": "stream",
     "text": [
      "/Users/ckemere/Development/Python/nelpy/nelpy/core/_analogsignalarray.py:360: UserWarning: creating support from time and sampling rate, fs!\n",
      "/Users/ckemere/Development/Python/nelpy/nelpy/utils.py:549: UserWarning: some steps in the data are smaller than the requested step size.\n"
     ]
    },
    {
     "name": "stdout",
     "output_type": "stream",
     "text": [
      "Loading boneeg03-1-24.mat\n",
      "Loading boneeg03-2-24.mat\n",
      "Loading boneeg03-3-24.mat\n",
      "Loading boneeg03-4-24.mat\n",
      "Loading boneeg03-5-24.mat\n",
      "Loading boneeg03-6-24.mat\n",
      "Loading boneeg03-7-24.mat\n"
     ]
    },
    {
     "name": "stderr",
     "output_type": "stream",
     "text": [
      "/Users/ckemere/Development/Python/nelpy/nelpy/core/_analogsignalarray.py:360: UserWarning: creating support from time and sampling rate, fs!\n",
      "/Users/ckemere/Development/Python/nelpy/nelpy/utils.py:549: UserWarning: some steps in the data are smaller than the requested step size.\n"
     ]
    },
    {
     "name": "stdout",
     "output_type": "stream",
     "text": [
      "Loading boneeg03-1-28.mat\n",
      "Loading boneeg03-2-28.mat\n",
      "Loading boneeg03-3-28.mat\n",
      "Loading boneeg03-4-28.mat\n",
      "Loading boneeg03-5-28.mat\n",
      "Loading boneeg03-6-28.mat\n",
      "Loading boneeg03-7-28.mat\n"
     ]
    },
    {
     "name": "stderr",
     "output_type": "stream",
     "text": [
      "/Users/ckemere/Development/Python/nelpy/nelpy/core/_analogsignalarray.py:360: UserWarning: creating support from time and sampling rate, fs!\n",
      "/Users/ckemere/Development/Python/nelpy/nelpy/utils.py:549: UserWarning: some steps in the data are smaller than the requested step size.\n"
     ]
    },
    {
     "name": "stdout",
     "output_type": "stream",
     "text": [
      "[(5742710, 1), (5742711, 1), (5742712, 1), (5742713, 1), (5742714, 1), (5742715, 1), (5742716, 1), (5742717, 1), (5742718, 1), (5742719, 1), (5742720, 1), (5742721, 1), (5742722, 1), (5742723, 1), (5742724, 1), (5742725, 1), (5742726, 1), (5742727, 1), (5742728, 1)] [13 13 14 15 16 16 17 17 17 17 17 17 17 16 16 15 14 13]\n",
      "Loading boneeg03-1-29.mat\n",
      "Loading boneeg03-2-29.mat\n",
      "Loading boneeg03-3-29.mat\n",
      "Loading boneeg03-4-29.mat\n",
      "Loading boneeg03-5-29.mat\n",
      "Loading boneeg03-6-29.mat\n",
      "Loading boneeg03-7-29.mat\n"
     ]
    },
    {
     "name": "stderr",
     "output_type": "stream",
     "text": [
      "/Users/ckemere/Development/Python/nelpy/nelpy/core/_analogsignalarray.py:360: UserWarning: creating support from time and sampling rate, fs!\n",
      "/Users/ckemere/Development/Python/nelpy/nelpy/utils.py:549: UserWarning: some steps in the data are smaller than the requested step size.\n"
     ]
    },
    {
     "name": "stdout",
     "output_type": "stream",
     "text": [
      "Loading boneeg03-1-04.mat\n",
      "Loading boneeg03-2-04.mat\n",
      "Loading boneeg03-3-04.mat\n",
      "Loading boneeg03-4-04.mat\n",
      "Loading boneeg03-5-04.mat\n",
      "Loading boneeg03-6-04.mat\n",
      "Loading boneeg03-7-04.mat\n"
     ]
    },
    {
     "name": "stderr",
     "output_type": "stream",
     "text": [
      "/Users/ckemere/Development/Python/nelpy/nelpy/core/_analogsignalarray.py:360: UserWarning: creating support from time and sampling rate, fs!\n",
      "/Users/ckemere/Development/Python/nelpy/nelpy/utils.py:549: UserWarning: some steps in the data are smaller than the requested step size.\n"
     ]
    },
    {
     "name": "stdout",
     "output_type": "stream",
     "text": [
      "Loading boneeg03-1-05.mat\n",
      "Loading boneeg03-2-05.mat\n",
      "Loading boneeg03-3-05.mat\n",
      "Loading boneeg03-4-05.mat\n",
      "Loading boneeg03-5-05.mat\n",
      "Loading boneeg03-6-05.mat\n",
      "Loading boneeg03-7-05.mat\n"
     ]
    },
    {
     "name": "stderr",
     "output_type": "stream",
     "text": [
      "/Users/ckemere/Development/Python/nelpy/nelpy/core/_analogsignalarray.py:360: UserWarning: creating support from time and sampling rate, fs!\n",
      "/Users/ckemere/Development/Python/nelpy/nelpy/utils.py:549: UserWarning: some steps in the data are smaller than the requested step size.\n"
     ]
    }
   ],
   "source": [
    "RipThresh = 3 # x sigma over mean\n",
    "minThresholdLength = 0.015\n",
    "minLength = 0.025\n",
    "maxLength = 2\n",
    "\n",
    "ani, animal_dir = 'Bon', '/Users/ckemere/Development/Data/Frank/Bon'\n",
    "\n",
    "\n",
    "# import os.path\n",
    "# filename = os.path.join('LFP','LFP_{}_{:02d}_{:02d}.nel'.format(anim,day,tetrode))\n",
    "# print('Loading: {}'.format(filename))\n",
    "# if os.path.exists(filename):\n",
    "#     lfpjar = nel.load_pkl(filename)\n",
    "# else:\n",
    "#     print('No LFP file for {}'.format(filename))\n",
    "#     continue\n",
    "\n",
    "all_swr_events = {}\n",
    "for day, daydata in data[anim].items():\n",
    "    # The animal \"Bon\" had good data on day 3\n",
    "    S = daydata['spikes']\n",
    "    pos = daydata['pos']\n",
    "    ep_list = list(taskinfo.query('Animal==@anim & Day==@dk')[\"Epoch\"])\n",
    "    supports = []\n",
    "    day_swr_events = []\n",
    "    for tet in tetrodes:\n",
    "        tet_eeg = []\n",
    "        eeg_timestamps = []\n",
    "        for ep in ep_list:\n",
    "            tetrodes = tetinfo.query('Animal==@anim & Epoch==@ep & area==\"CA1\" & Day==@day').Tetrode.tolist()\n",
    "            eeg = frank_lab.load_data(animal_dir, day=day+1, epoch=ep+1, \n",
    "                                      tetrode=tet+1, version='new', verbose=True)\n",
    "\n",
    "            start = eeg.starttime\n",
    "            stop = eeg.starttime + len(eeg.data) / eeg.samprate\n",
    "\n",
    "            tet_eeg.append(eeg.data)\n",
    "            eeg_timestamps.append(eeg.starttime + np.array(range(len(eeg.data))) / eeg.samprate)\n",
    "        \n",
    "            # might as well build one AnalogSignalArray for the eeg data:\n",
    "        eeg = nel.AnalogSignalArray(ydata=np.hstack(tet_eeg), timestamps=np.hstack(eeg_timestamps), fs=1500)\n",
    "        ripple_epochs = detect_ripples(eeg)\n",
    "        day_swr_events.append(ripple_epochs)\n",
    "    \n",
    "    break;\n",
    "    \n",
    "    # lfpdata = lfpjar.lfpdata\n",
    "    # ripple_epochs = detect_ripples(lfpdata)\n",
    "    # all_swr_events[day] = ripple_epochs"
   ]
  },
  {
   "cell_type": "code",
   "execution_count": 40,
   "metadata": {},
   "outputs": [
    {
     "name": "stdout",
     "output_type": "stream",
     "text": [
      "(1689946,)\n",
      "(1689946,)\n",
      "(1689946,)\n",
      "(1689946,)\n",
      "(1689946,)\n",
      "(1689946,)\n",
      "(1689943,)\n",
      "(1689943,)\n",
      "(1689943,)\n",
      "(1689946,)\n",
      "(1689946,)\n"
     ]
    }
   ],
   "source": [
    "for e in ep_eeg:\n",
    "    print(e.shape)"
   ]
  },
  {
   "cell_type": "code",
   "execution_count": 28,
   "metadata": {},
   "outputs": [
    {
     "ename": "TypeError",
     "evalue": "unsupported format string passed to list.__format__",
     "output_type": "error",
     "traceback": [
      "\u001b[0;31m---------------------------------------------------------------------------\u001b[0m",
      "\u001b[0;31mTypeError\u001b[0m                                 Traceback (most recent call last)",
      "\u001b[0;32m<ipython-input-28-8952c93a83a4>\u001b[0m in \u001b[0;36m<module>\u001b[0;34m()\u001b[0m\n\u001b[1;32m      3\u001b[0m \u001b[0;34m\u001b[0m\u001b[0m\n\u001b[1;32m      4\u001b[0m eeg = frank_lab.load_data(animal_dir, day=day+1, epoch=ep+1, \n\u001b[0;32m----> 5\u001b[0;31m                           tetrode=tets, version='new', verbose=True)\n\u001b[0m\u001b[1;32m      6\u001b[0m \u001b[0;34m\u001b[0m\u001b[0m\n",
      "\u001b[0;32m~/Development/Python/RippleStickiness/frank_lab.py\u001b[0m in \u001b[0;36mload_data\u001b[0;34m(fileroot, day, epoch, tetrode, datatype, version, verbose)\u001b[0m\n\u001b[1;32m    264\u001b[0m \u001b[0;34m\u001b[0m\u001b[0m\n\u001b[1;32m    265\u001b[0m     \u001b[0;32mif\u001b[0m \u001b[0;34m(\u001b[0m\u001b[0mdatatype\u001b[0m\u001b[0;34m==\u001b[0m\u001b[0;34m'eeg'\u001b[0m\u001b[0;34m)\u001b[0m \u001b[0;34m:\u001b[0m\u001b[0;34m\u001b[0m\u001b[0m\n\u001b[0;32m--> 266\u001b[0;31m         \u001b[0mfilename\u001b[0m \u001b[0;34m=\u001b[0m \u001b[0;34m\"{}eeg{:02d}-{}-{:02d}.mat\"\u001b[0m\u001b[0;34m.\u001b[0m\u001b[0mformat\u001b[0m\u001b[0;34m(\u001b[0m\u001b[0manim_prefix\u001b[0m\u001b[0;34m,\u001b[0m \u001b[0mday\u001b[0m\u001b[0;34m,\u001b[0m \u001b[0mepoch\u001b[0m\u001b[0;34m,\u001b[0m \u001b[0mtetrode\u001b[0m\u001b[0;34m)\u001b[0m\u001b[0;34m\u001b[0m\u001b[0m\n\u001b[0m\u001b[1;32m    267\u001b[0m         \u001b[0;32mif\u001b[0m \u001b[0mverbose\u001b[0m\u001b[0;34m:\u001b[0m\u001b[0;34m\u001b[0m\u001b[0m\n\u001b[1;32m    268\u001b[0m             \u001b[0mprint\u001b[0m\u001b[0;34m(\u001b[0m\u001b[0;34m\"Loading \"\u001b[0m \u001b[0;34m+\u001b[0m \u001b[0mfilename\u001b[0m\u001b[0;34m)\u001b[0m\u001b[0;34m\u001b[0m\u001b[0m\n",
      "\u001b[0;31mTypeError\u001b[0m: unsupported format string passed to list.__format__"
     ]
    }
   ],
   "source": [
    "tetrodes = tetinfo.query('Animal==@anim & area==\"CA1\" & Day==@day').Tetrode.tolist()\n",
    "tets = [t+1 for t in tetrodes]\n",
    "\n",
    "eeg = frank_lab.load_data(animal_dir, day=day+1, epoch=ep+1, \n",
    "                          tetrode=tets, version='new', verbose=True)\n",
    "\n"
   ]
  },
  {
   "cell_type": "code",
   "execution_count": 23,
   "metadata": {
    "collapsed": true
   },
   "outputs": [],
   "source": [
    "import nelpy.io\n",
    "#np.savez_compressed('FrankLabPickle.npz', data=data, cellinfo=cellinfo, taskinfo=taskinfo)\n",
    "BonRippleEpochs = nel.ResultsContainer(BonSWREpochs=all_swr_events,\n",
    "                                    description='SWR epochs detected in Bon data using 5 sigma threshold.\\n')"
   ]
  },
  {
   "cell_type": "code",
   "execution_count": 24,
   "metadata": {
    "collapsed": true
   },
   "outputs": [],
   "source": [
    "BonRippleEpochs.save_pkl('BonRippleEpochs.nel')"
   ]
  }
 ],
 "metadata": {
  "kernelspec": {
   "display_name": "Python 3",
   "language": "python",
   "name": "python3"
  },
  "language_info": {
   "codemirror_mode": {
    "name": "ipython",
    "version": 3
   },
   "file_extension": ".py",
   "mimetype": "text/x-python",
   "name": "python",
   "nbconvert_exporter": "python",
   "pygments_lexer": "ipython3",
   "version": "3.6.2"
  }
 },
 "nbformat": 4,
 "nbformat_minor": 2
}
