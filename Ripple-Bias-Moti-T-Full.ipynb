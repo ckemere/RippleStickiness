{
 "cells": [
  {
   "cell_type": "code",
   "execution_count": 1,
   "metadata": {},
   "outputs": [
    {
     "name": "stderr",
     "output_type": "stream",
     "text": [
      "/home/kemerelab/anaconda3/lib/python3.6/site-packages/matplotlib/cbook/deprecation.py:106: MatplotlibDeprecationWarning: The mpl_toolkits.axes_grid module was deprecated in version 2.1. Use mpl_toolkits.axes_grid1 and mpl_toolkits.axisartist provies the same functionality instead.\n"
     ]
    }
   ],
   "source": [
    "import numpy as np # primary math library\n",
    "import matplotlib.pyplot as plt # primary plotting library\n",
    "%matplotlib inline\n",
    "\n",
    "import nelpy as nel # should be installed using pip install nelpy\n",
    "\n",
    "import warnings\n",
    "#warnings.filterwarnings(\"ignore\") # useful to prevent excess nelpy warnings"
   ]
  },
  {
   "cell_type": "code",
   "execution_count": 2,
   "metadata": {
    "collapsed": true
   },
   "outputs": [],
   "source": [
    "# dataroot = '/Users/ckemere/Development/Data/Frank/';\n",
    "dataroot = '/home/kemerelab/Data/' # There's one in both this and ./motivational-t/ !"
   ]
  },
  {
   "cell_type": "code",
   "execution_count": 3,
   "metadata": {
    "collapsed": true
   },
   "outputs": [],
   "source": [
    "import os\n",
    "\n",
    "filename = os.path.join(dataroot,'FullMVDMData.nel')\n",
    "import nelpy.io\n",
    "jar = nel.load_pkl(filename)\n",
    "\n",
    "data = jar.Data\n",
    "TrackData = jar.TrackData\n",
    "del jar\n"
   ]
  },
  {
   "cell_type": "code",
   "execution_count": 4,
   "metadata": {},
   "outputs": [
    {
     "data": {
      "text/plain": [
       "dict_keys(['R042', 'R044', 'R050', 'R064'])"
      ]
     },
     "execution_count": 4,
     "metadata": {},
     "output_type": "execute_result"
    }
   ],
   "source": [
    "data.keys()"
   ]
  },
  {
   "cell_type": "markdown",
   "metadata": {},
   "source": [
    "# Calculate tuning curves for all neurons for all animals and days"
   ]
  },
  {
   "cell_type": "code",
   "execution_count": 5,
   "metadata": {
    "scrolled": true
   },
   "outputs": [
    {
     "name": "stdout",
     "output_type": "stream",
     "text": [
      "R042 2013-08-16\n",
      "R042 2013-08-17\n",
      "R042 2013-08-18\n",
      "R042 2013-08-19\n",
      "R042 2013-08-20\n",
      "R042 2013-08-21\n",
      "R044 2013-12-18\n",
      "R044 2013-12-19\n",
      "R044 2013-12-20\n",
      "R044 2013-12-21\n",
      "R044 2013-12-22\n",
      "R044 2013-12-23\n",
      "R050 2014-03-29\n",
      "R050 2014-03-30\n",
      "R050 2014-03-31\n",
      "R050 2014-04-01\n",
      "R050 2014-04-02\n",
      "R050 2014-04-03\n",
      "R064 2015-04-18\n",
      "R064 2015-04-19\n",
      "R064 2015-04-20\n",
      "R064 2015-04-21\n",
      "R064 2015-04-22\n",
      "R064 2015-04-23\n"
     ]
    }
   ],
   "source": [
    "from numpy import unravel_index\n",
    "    \n",
    "sigma_500ms = 0.5 # Smoothing for speed calculation\n",
    "# Bin sizes are 500 ms, and then we slide\n",
    "# ds_run = 0.250 # 250 ms\n",
    "ds_25ms = 0.025\n",
    "\n",
    "# sigma_250ms = 0.25 # 250 ms spike smoothing\n",
    "\n",
    "min_duration = 1 # require that estimation periods be at least 1 second long\n",
    "\n",
    "# Smoothing standard deviation\n",
    "sigma_tc = 2.5 # tuning curve smoothing std in cm\n",
    "min_spikes = 5\n",
    "\n",
    "PFCenters = {}\n",
    "TuningCurves = {}\n",
    "\n",
    "for anim, animdata in data.items():\n",
    "    PFCenters[anim] = {}\n",
    "    TuningCurves[anim] = {}\n",
    "    \n",
    "    for day, daydata in animdata.items():\n",
    "        print(anim, day)\n",
    "        S = daydata['spikes']\n",
    "        pos = daydata['pos']\n",
    "\n",
    "        x_extents = TrackData[anim]['XExtents'] # Read these off of maze figure above\n",
    "        y_extents = TrackData[anim]['YExtents']\n",
    "\n",
    "        nx = np.diff(x_extents)/5 # 5 cm bins\n",
    "        ny = np.diff(y_extents)/5\n",
    "\n",
    "        with warnings.catch_warnings():\n",
    "            warnings.simplefilter(\"ignore\")\n",
    "            speed = nel.utils.dxdt_AnalogSignalArray(pos, smooth=True, sigma=sigma_500ms)\n",
    "\n",
    "        # get_run_epochs is a utility function which wraps a speed threshold. This finds periods where the speed\n",
    "        #   is greater than v2 and reaches at least a maximum of v1.\n",
    "        with warnings.catch_warnings():\n",
    "            warnings.simplefilter(\"ignore\")\n",
    "            run_epochs = nel.utils.get_run_epochs(speed, v1=10, v2=5) # has to be at least 10 cm/s\n",
    "            run_epochs = pos.support.intersect(run_epochs)  \n",
    "            run_epochs = run_epochs.intersect(daydata['trial_iv'])\n",
    "\n",
    "        st_run = S[run_epochs]\n",
    "\n",
    "        # bin, smooth and re-bin:\n",
    "        with warnings.catch_warnings():\n",
    "            warnings.simplefilter(\"ignore\")\n",
    "            bst_run = st_run.bin(ds=ds_25ms)\n",
    "            #bst_run = st_run.bin(ds=ds_50ms).smooth(sigma=sigma_250ms, inplace=True).rebin(w=ds_run/ds_50ms)\n",
    "\n",
    "        with warnings.catch_warnings():\n",
    "            warnings.simplefilter(\"ignore\")\n",
    "            tc = nel.TuningCurve2D(bst=bst_run, extern=pos, \n",
    "                                   ext_xmin=x_extents[0], ext_xmax=x_extents[1], \n",
    "                                   ext_ymin=y_extents[0], ext_ymax=y_extents[1],\n",
    "                                   ext_nx=nx, ext_ny=ny,\n",
    "                                   sigma=None, min_duration=0.5)\n",
    "                                   #sigma=sigma_tc, min_duration=1)\n",
    "\n",
    "        TuningCurves[anim][day] = tc\n",
    "        PFCenters[anim][day] = []\n",
    "\n",
    "        for idx, pf in enumerate(tc.ratemap):\n",
    "            placefield = pf.T\n",
    "            peak = unravel_index(placefield.squeeze().argmax(),placefield.shape)\n",
    "            PFCenters[anim][day].append([idx, placefield.max(), peak[0], peak[1]])\n",
    "\n",
    "    \n"
   ]
  },
  {
   "cell_type": "markdown",
   "metadata": {},
   "source": [
    "# Plot an example tuning curve"
   ]
  },
  {
   "cell_type": "code",
   "execution_count": 6,
   "metadata": {},
   "outputs": [
    {
     "name": "stdout",
     "output_type": "stream",
     "text": [
      "0.46313072411 28.0\n"
     ]
    },
    {
     "name": "stderr",
     "output_type": "stream",
     "text": [
      "/home/kemerelab/Code/nelpy/nelpy/core/_analogsignalarray.py:560: UserWarning: ignoring signal outside of support\n"
     ]
    },
    {
     "data": {
      "text/plain": [
       "[<matplotlib.lines.Line2D at 0x7f0f950b9f98>]"
      ]
     },
     "execution_count": 6,
     "metadata": {},
     "output_type": "execute_result"
    },
    {
     "data": {
      "image/png": "[encoded data removed]",
      "text/plain": [
       "<matplotlib.figure.Figure at 0x7f0f9539cc18>"
      ]
     },
     "metadata": {},
     "output_type": "display_data"
    }
   ],
   "source": [
    "import nelpy.plotting as npl\n",
    "\n",
    "anim = 'R064'\n",
    "day = '2015-04-19'\n",
    "\n",
    "tc = TuningCurves[anim][day]\n",
    "xx_mid = tc.xbin_centers\n",
    "yy_mid = tc.ybin_centers\n",
    "\n",
    "S = data[anim][day]['spikes']\n",
    "pos = data[anim][day]['pos']\n",
    "\n",
    "with warnings.catch_warnings():\n",
    "    warnings.simplefilter(\"ignore\")\n",
    "    speed = nel.utils.dxdt_AnalogSignalArray(pos, smooth=True, sigma=sigma_500ms)\n",
    "\n",
    "# get_run_epochs is a utility function which wraps a speed threshold. This finds periods where the speed\n",
    "#   is greater than v2 and reaches at least a maximum of v1.\n",
    "with warnings.catch_warnings():\n",
    "    warnings.simplefilter(\"ignore\")\n",
    "    run_epochs = nel.utils.get_run_epochs(speed, v1=10, v2=5) # has to be at least 10 cm/s\n",
    "    run_epochs = run_epochs.intersect(data[anim][day]['trial_iv'])\n",
    "\n",
    "\n",
    "#runpos = pos[data[anim][day]['trial_iv'],:]\n",
    "runpos = pos[run_epochs,:]\n",
    "xvals, yvals = runpos.asarray().yvals\n",
    "\n",
    "nidx = 5\n",
    "\n",
    "print(S[runpos.support].n_spikes[nidx]/runpos.support.duration,\n",
    "     tc.ratemap[nidx,:,:].max())\n",
    "xspks, yspks = runpos.asarray(at=S[run_epochs,:].time[nidx]).yvals\n",
    "\n",
    "placefield = tc.ratemap[nidx]\n",
    "\n",
    "fig, ax = plt.subplots(1,1, figsize = (8, 8))\n",
    "ax.set_aspect('equal')\n",
    "npl.imagesc(x=xx_mid, y=yy_mid, data=placefield.T, cmap=plt.cm.hot, ax=ax)\n",
    "ax.plot(xvals, yvals, lw=0.25, color='w', alpha=0.5)\n",
    "ax.plot(xspks, yspks, 'o', color=npl.colors.sweet.blue, alpha=0.25)\n",
    "\n"
   ]
  },
  {
   "cell_type": "markdown",
   "metadata": {},
   "source": [
    "# Decode each ripple's total position and odds over maze zones"
   ]
  },
  {
   "cell_type": "code",
   "execution_count": 7,
   "metadata": {
    "collapsed": true
   },
   "outputs": [],
   "source": [
    "def calculate_shuffle_odds(swr, ratemap, left_pixels, right_pixels, n_shuffles=50):\n",
    "    if swr.n_active == 0:\n",
    "        return (np.nan, 0)\n",
    "\n",
    "    NN = ratemap.shape[0]\n",
    "    bayes_estimate = -ratemap.sum(axis=0).T + np.log(ratemap.T).dot(swr.n_spikes)\n",
    "    left_odds = (bayes_estimate * left_pixels.T).sum()\n",
    "    right_odds = (bayes_estimate * right_pixels.T).sum()\n",
    "\n",
    "    true_odds = left_odds - right_odds\n",
    "\n",
    "    shuf_odds = []\n",
    "    for n in range(n_shuffles):\n",
    "        shuf_rate = ratemap.copy()\n",
    "        shuf_rate = shuf_rate[np.random.permutation(NN),:,:]\n",
    "        shuf_est = -shuf_rate.sum(axis=0).T + np.log(shuf_rate.T).dot(swr.n_spikes)\n",
    "        left_odds = (shuf_est * left_pixels.T).sum()\n",
    "        right_odds = (shuf_est * right_pixels.T).sum()\n",
    "        shuf_odds.append(left_odds - right_odds)\n",
    "        \n",
    "    return (true_odds, shuf_odds)\n"
   ]
  },
  {
   "cell_type": "code",
   "execution_count": null,
   "metadata": {},
   "outputs": [
    {
     "data": {
      "text/plain": [
       "{'LeftArmRect': [150, -5, 250, 135],\n",
       " 'RightArmRect': [5, -5, 105, 135],\n",
       " 'XExtents': [15, 245],\n",
       " 'YExtents': [-5, 215]}"
      ]
     },
     "execution_count": 8,
     "metadata": {},
     "output_type": "execute_result"
    }
   ],
   "source": [
    "TrackData['R064']"
   ]
  },
  {
   "cell_type": "code",
   "execution_count": null,
   "metadata": {},
   "outputs": [
    {
     "name": "stdout",
     "output_type": "stream",
     "text": [
      "R042 2013-08-16\n",
      "Pixel areas decided 0.056387901306152344 s\n",
      "Scoring starting\n"
     ]
    },
    {
     "name": "stderr",
     "output_type": "stream",
     "text": [
      "/home/kemerelab/Code/nelpy/nelpy/core/_analogsignalarray.py:560: UserWarning: ignoring signal outside of support\n"
     ]
    },
    {
     "name": "stdout",
     "output_type": "stream",
     "text": [
      "Done in  42.5956974029541 s\n",
      "1127 1127\n",
      "R042 2013-08-17\n",
      "Pixel areas decided 0.05639481544494629 s\n",
      "Scoring starting\n"
     ]
    },
    {
     "name": "stderr",
     "output_type": "stream",
     "text": [
      "/home/kemerelab/Code/nelpy/nelpy/core/_analogsignalarray.py:560: UserWarning: ignoring signal outside of support\n"
     ]
    },
    {
     "name": "stdout",
     "output_type": "stream",
     "text": [
      "Done in  75.77747797966003 s\n",
      "595 595\n",
      "R042 2013-08-18\n",
      "Pixel areas decided 0.05331873893737793 s\n",
      "Scoring starting\n"
     ]
    },
    {
     "name": "stderr",
     "output_type": "stream",
     "text": [
      "/home/kemerelab/Code/nelpy/nelpy/core/_analogsignalarray.py:560: UserWarning: ignoring signal outside of support\n"
     ]
    }
   ],
   "source": [
    "from joblib import Parallel, delayed\n",
    "from scipy import stats\n",
    "import time\n",
    "from shapely.geometry import box, Point\n",
    "\n",
    "RippleArmScores = {}\n",
    "NNeuronShufs = 500\n",
    "\n",
    "for anim, animdata in data.items():\n",
    "    RippleArmScores[anim] = {}    \n",
    "    for day, daydata in animdata.items():\n",
    "        print(anim, day)\n",
    "        t0 = time.time()\n",
    "\n",
    "        ########################################################\n",
    "        # Calculate pixel bins for left and right decoding areas\n",
    "        nx = TuningCurves[anim][day].n_xbins\n",
    "        ny = TuningCurves[anim][day].n_ybins\n",
    "        xx_mid = TuningCurves[anim][day].xbin_centers\n",
    "        yy_mid = TuningCurves[anim][day].ybin_centers\n",
    "        \n",
    "        left_box = box(*TrackData[anim]['LeftArmRect'])\n",
    "        right_box = box(*TrackData[anim]['RightArmRect'])\n",
    "        \n",
    "        left_pixels = np.zeros((int(nx),int(ny)))\n",
    "        right_pixels = np.zeros((int(nx),int(ny)))\n",
    "        for ix, x in enumerate(xx_mid):\n",
    "            for iy, y in enumerate(yy_mid):\n",
    "                left_pixels[ix,iy] = left_box.contains(Point([x,y]))\n",
    "                right_pixels[ix,iy] = right_box.contains(Point([x,y]))\n",
    "        ########################################################\n",
    "\n",
    "        t1 = time.time()\n",
    "        print('Pixel areas decided', t1-t0, 's')\n",
    "\n",
    "        swr_eps = data[anim][day]['event-candidates']\n",
    "        S = data[anim][day]['spikes']        \n",
    "        \n",
    "        if (swr_eps.n_epochs < 20):\n",
    "            continue\n",
    "        \n",
    "        RippleArmScores[anim][day] = {}\n",
    "        \n",
    "        RippleArmScores[anim][day]['RippleEpochs'] = swr_eps\n",
    "\n",
    "        swrtimes = swr_eps.starts\n",
    "        \n",
    "        isi = np.insert(np.diff(swrtimes),0,-np.nan)\n",
    "        RippleArmScores[anim][day]['TimeSinceLastRipple'] = isi\n",
    "\n",
    "        print('Scoring starting')\n",
    "\n",
    "        pos = daydata['pos']\n",
    "        runpos = pos[data[anim][day]['trial_iv'],:]\n",
    "        placecells = S[runpos.support,:].n_spikes/runpos.support.duration < 5\n",
    "        swr_spikes = S.iloc[swr_eps,placecells]\n",
    "\n",
    "        ratemap = TuningCurves[anim][day].ratemap\n",
    "        ratemap = ratemap[placecells,:,:]\n",
    "\n",
    "        results = Parallel(n_jobs=29)(delayed(calculate_shuffle_odds)(swr, ratemap, \n",
    "                                    left_pixels, right_pixels, n_shuffles=NNeuronShufs) for swr in swr_spikes)\n",
    "        t2 = time.time()\n",
    "        print('Done in ', t2-t1, 's')\n",
    "\n",
    "        true_odds, shuf_odds = zip(*results)\n",
    "\n",
    "        RippleArmScores[anim][day]['TrueOdds'] = true_odds\n",
    "        RippleArmScores[anim][day]['OddsShuffles'] = shuf_odds\n",
    "\n",
    "        shuf_ratio = []\n",
    "        for idx, t in enumerate(true_odds):\n",
    "            if not np.isnan(t):\n",
    "                shuf_ratio.append(stats.percentileofscore(shuf_odds[idx],t))\n",
    "            else:\n",
    "                shuf_ratio.append(np.nan)\n",
    "                \n",
    "        shuf_ratio = np.array(shuf_ratio)\n",
    "        RippleArmScores[anim][day]['TruePercentiles'] = shuf_ratio\n",
    "        RippleArmScores[anim][day]['ScoreOfLastRipple'] = np.hstack([np.nan, shuf_ratio[:-1]])\n",
    "\n",
    "        shuf_ratio2 = np.zeros(shuf_ratio.shape)\n",
    "        shuf_ratio2[shuf_ratio > 75] = 1.0\n",
    "        shuf_ratio2[shuf_ratio < 25] = -1.0\n",
    "        RippleArmScores[anim][day]['TruePercentilesThresholded'] = shuf_ratio2\n",
    "        RippleArmScores[anim][day]['ScoreOfLastRippleThresholded'] = np.hstack([0, shuf_ratio2[:-1]])\n",
    "        \n",
    "        print(len(isi), len(np.hstack([shuf_ratio[1:], np.nan])))\n",
    "    "
   ]
  },
  {
   "cell_type": "code",
   "execution_count": null,
   "metadata": {
    "collapsed": true
   },
   "outputs": [],
   "source": [
    "RippleArmScores"
   ]
  },
  {
   "cell_type": "code",
   "execution_count": null,
   "metadata": {
    "collapsed": true
   },
   "outputs": [],
   "source": []
  },
  {
   "cell_type": "markdown",
   "metadata": {},
   "source": [
    "# Plot an example event"
   ]
  },
  {
   "cell_type": "code",
   "execution_count": null,
   "metadata": {
    "collapsed": true
   },
   "outputs": [],
   "source": [
    "import seaborn as sns\n",
    "from descartes.patch import PolygonPatch # pip install descartes\n",
    "\n",
    "anim = 'R064'\n",
    "day = '2015-04-18'\n",
    "\n",
    "swr_eps = data[anim][day]['event-candidates']\n",
    "S = data[anim][day]['spikes']        \n",
    "pos = data[anim][day]['pos']\n",
    "\n",
    "p = np.array(PFCenters[anim][day],dtype=int)\n",
    "pfcenters = np.vstack((tc.xbin_centers[p[:,3]], tc.ybin_centers[p[:,2]])).T\n",
    "\n",
    "runpos = pos[data[anim][day]['trial_iv'],:]\n",
    "\n",
    "ratemap = TuningCurves[anim][day].ratemap\n",
    "\n",
    "placecells = (S[runpos.support,:].n_spikes/runpos.support.duration < 5) & (ratemap.max(axis=2).max(axis=1) > 1)\n",
    "print(placecells.sum())\n",
    "swr_spikes = S.iloc[swr_eps,placecells]\n",
    "\n",
    "ratemap = ratemap[placecells,:,:]\n",
    "\n",
    "ex = 17\n",
    "\n",
    "swr = swr_spikes[ex]\n",
    "print(swr.n_active)\n",
    "\n",
    "fig, ax = plt.subplots(1,3,figsize=(15,5))\n",
    "\n",
    "xvals, yvals = runpos.simplify(n_points=5000).asarray().yvals\n",
    "ax[0].plot(xvals, yvals, lw=0.25, color='gray', alpha=0.5)\n",
    "\n",
    "pc_indices = np.argwhere(placecells).squeeze()\n",
    "for nidx, n in enumerate(swr.n_spikes):\n",
    "    if n > 0:\n",
    "        pidx = pc_indices[nidx]\n",
    "        ax[0].plot(pfcenters[pidx][0],pfcenters[pidx][1],'o',markersize=3*n);\n",
    "    \n",
    "bayes_estimate = np.log(ratemap.T).dot(swr.n_spikes)\n",
    "# bayes_estimate = -ratemap.sum(axis=0).T + np.log(ratemap.T).dot(swr.n_spikes)\n",
    "\n",
    "left_odds = (bayes_estimate * left_pixels.T).sum()\n",
    "right_odds = (bayes_estimate * right_pixels.T).sum()\n",
    "\n",
    "print(left_odds, right_odds)\n",
    "true_odds = left_odds - right_odds\n",
    "\n",
    "ax[1].set_aspect('equal')\n",
    "ax[1], img = npl.imagesc(x=xx_mid, y=yy_mid, data=bayes_estimate, cmap=plt.cm.RdBu_r, ax=ax[1])\n",
    "_ = ax[1].add_patch(PolygonPatch(right_box,alpha=0.1));\n",
    "_ = ax[1].add_patch(PolygonPatch(left_box,alpha=0.1));\n",
    "\n",
    "plt.colorbar(img, ax=ax[1])\n",
    "\n",
    "sns.distplot(RippleArmScores[anim][day]['OddsShuffles'][ex], ax=ax[2])\n",
    "ax[2].plot(RippleArmScores[anim][day]['TrueOdds'][ex]*np.ones(2),np.array([0,0.0005]))\n",
    "ax[2].set_title('Percentile = {}'.format(RippleArmScores[anim][day]['TruePercentiles'][ex]))\n"
   ]
  },
  {
   "cell_type": "code",
   "execution_count": null,
   "metadata": {
    "collapsed": true
   },
   "outputs": [],
   "source": [
    "ds = 0.01 # 10 millisecond bins should be ok?\n",
    "\n",
    "RipEventData = {}\n",
    "for anim, animdata in data.items():\n",
    "    RipEventData[anim] = {}\n",
    "    for day, daydata in animdata.items():\n",
    "        print(anim, day)\n",
    "        swr_eps = data[anim][day]['event-candidates']\n",
    "        expanded_support = nel.EpochArray([swr_eps.centers[0]-5,swr_eps.centers[-1]+5])\n",
    "        swr_events = nel.SpikeTrainArray(swr_eps.centers, support=expanded_support)    \n",
    "        binned_swr_events = nel.BinnedSpikeTrainArray(swr_events, ds=ds)\n",
    "        RipEventData[anim][day] = {}\n",
    "        RipEventData[anim][day]['Scores'] = (RippleArmScores[anim][day]['TruePercentiles'] - 50)/100\n",
    "        RipEventData[anim][day]['TimeSeriesLength'] = binned_swr_events.data.squeeze().shape[0]\n",
    "        RipEventData[anim][day]['EventInds'] = np.argwhere(binned_swr_events.data.squeeze()==1)\n"
   ]
  },
  {
   "cell_type": "markdown",
   "metadata": {},
   "source": [
    "# Generate shuffled event autocorrelations"
   ]
  },
  {
   "cell_type": "code",
   "execution_count": null,
   "metadata": {
    "collapsed": true
   },
   "outputs": [],
   "source": [
    "def autocorrelate(x, NA=10000):\n",
    "    autocor = np.zeros(NA)\n",
    "    for lag in range(NA):\n",
    "        if lag == 0:\n",
    "            autocor[lag] = np.inner(x, x)/len(x)\n",
    "        else:\n",
    "            autocor[lag] = np.inner(x[:-lag], x[lag:]) / len(x[lag:])\n",
    "            \n",
    "    return autocor"
   ]
  },
  {
   "cell_type": "markdown",
   "metadata": {},
   "source": [
    "## \"Raw\" autocorrelations - no time, just event numbers!"
   ]
  },
  {
   "cell_type": "code",
   "execution_count": null,
   "metadata": {
    "collapsed": true
   },
   "outputs": [],
   "source": [
    "fig, axs = plt.subplots(24,2,figsize=(15,15))\n",
    "\n",
    "\n",
    "idx = 0;\n",
    "for anim, animdata in RippleArmScores:\n",
    "    for day, daydata in RippleArmScores[anim].items():\n",
    "        print(anim, day)\n",
    "        scores = (RippleArmScores[anim][day]['TruePercentiles']-50)/100\n",
    "        scores = scores[~np.isnan(scores)]\n",
    "        raw_autocor = autocorrelate(scores)\n",
    "\n",
    "        sns.distplot(scores,100,ax=axs[idx,0])\n",
    "\n",
    "        NShufRaw = 50\n",
    "        RawShuf = np.zeros((raw_autocor.shape[0],NShufRaw))\n",
    "        for i in range(NShufRaw):\n",
    "            RawShuf[:,i] = autocorrelate(np.random.permutation(scores))\n",
    "\n",
    "        ax = axs[idx,1]\n",
    "        ax.semilogx(raw_autocor)\n",
    "        ax.semilogx(np.percentile(RawShuf,90,axis=1))\n",
    "        ax.semilogx(np.percentile(RawShuf,10,axis=1))\n",
    "        ax.set_ylim(-0.025+raw_autocor[0],0.025+raw_autocor[0])\n",
    "        ax.grid(True)\n",
    "        ax.set_title('{},{}'.format(anim,day))\n",
    "\n",
    "        idx = idx + 1"
   ]
  },
  {
   "cell_type": "markdown",
   "metadata": {},
   "source": [
    "## Actual autocorrelations with events pasted into a big time vector"
   ]
  },
  {
   "cell_type": "code",
   "execution_count": null,
   "metadata": {
    "collapsed": true
   },
   "outputs": [],
   "source": [
    "NA = 10000\n",
    "day = '2015-04-22'\n",
    "\n",
    "score_time_series = np.zeros(RipEventData[anim][day]['TimeSeriesLength'])\n",
    "score_time_series[RipEventData[anim][day]['EventInds']] = np.expand_dims(RipEventData[anim][day]['Scores'],1)\n",
    "smoothed_scoreTS = scipy.ndimage.filters.gaussian_filter1d(score_time_series,sigma=sigma)\n",
    "\n",
    "autocor = autocorrelate(smoothed_scoreTS.squeeze(),NA=NA)\n",
    "\n",
    "fig, ax = plt.subplots(1,2,figsize=(15,4))\n",
    "ax[0].plot(smoothed_scoreTS[400:2000])\n",
    "ax[0].plot(score_time_series[400:2000])\n",
    "\n",
    "ax[1].semilogx(np.arange(NA-1)*ds, autocor[1:]*(1/ds)*(1/ds))\n",
    "ax[1].set_ylim(-0.01,0.01)\n",
    "ax[1].grid(True)\n"
   ]
  },
  {
   "cell_type": "code",
   "execution_count": null,
   "metadata": {
    "collapsed": true
   },
   "outputs": [],
   "source": [
    "def shuffle_autocorrelation(event_indices, event_values, nbins, sigma):\n",
    "    shuf_time_series = np.zeros(nbins)\n",
    "    shuf_time_series[event_indices] = np.expand_dims(np.random.permutation(event_values),1)\n",
    "    smoothed_shuf = scipy.ndimage.filters.gaussian_filter1d(shuf_time_series,sigma=sigma)\n",
    "    return autocorrelate(smoothed_shuf.T)\n",
    "    "
   ]
  },
  {
   "cell_type": "code",
   "execution_count": null,
   "metadata": {
    "collapsed": true
   },
   "outputs": [],
   "source": [
    "import time\n",
    "\n",
    "NShufs = 500\n",
    "\n",
    "for anim, animdata in RipEventData.items():\n",
    "    if (anim != 'R064'):\n",
    "        continue\n",
    "    for day, daydata in animdata.items():\n",
    "        print(anim,day)\n",
    "\n",
    "        true_scores = daydata['Scores']\n",
    "        event_indices = daydata['EventInds']\n",
    "        TSL = RipEventData[anim][day]['TimeSeriesLength']\n",
    "\n",
    "        \n",
    "        score_time_series = np.zeros(TSL)\n",
    "        score_time_series[event_indices] = np.expand_dims(true_scores,1)\n",
    "        smoothed_scoreTS = scipy.ndimage.filters.gaussian_filter1d(score_time_series,sigma=sigma)\n",
    "        actual_autocor = autocorrelate(smoothed_scoreTS.squeeze(),NA=NA)\n",
    "        RipEventData[anim][day]['ActualAutocorrelations'] = actual_autocor\n",
    "        \n",
    "        shuf_autocor = np.zeros((NA,NShufs))\n",
    "\n",
    "        t1 = time.time()\n",
    "        for i in range(NShufs):\n",
    "            if (i % 50 == 0):\n",
    "                print(i)\n",
    "            shuf_autocor[:,i] = shuffle_autocorrelation(event_indices, true_scores, TSL, sigma)\n",
    "        t2 = time.time()\n",
    "        \n",
    "        RipEventData[anim][day]['ShuffledAutocorrelations'] = [\n",
    "            np.mean((shuf_autocor),axis=1),\n",
    "            np.percentile((shuf_autocor),95,axis=1),\n",
    "            np.percentile((shuf_autocor),5,axis=1),\n",
    "        ]\n",
    "\n",
    "        print('Single thread time: {}'.format(t2-t1))\n",
    "    "
   ]
  },
  {
   "cell_type": "code",
   "execution_count": null,
   "metadata": {
    "collapsed": true
   },
   "outputs": [],
   "source": [
    "fig, ax = plt.subplots(3,2,figsize=(10,15))\n",
    "ax = ax.flatten()\n",
    "idx = 0\n",
    "for day, daydata in RippleArmScores[anim].items():\n",
    "    print(anim, day)\n",
    "    actual = RipEventData[anim][day]['ActualAutocorrelations']\n",
    "    top = RipEventData[anim][day]['ShuffledAutocorrelations'][1]\n",
    "    middle = RipEventData[anim][day]['ShuffledAutocorrelations'][0]\n",
    "    bottom = RipEventData[anim][day]['ShuffledAutocorrelations'][2]\n",
    "\n",
    "    ax[idx].semilogx(np.arange(NA)*ds, actual*(1/ds)*(1/ds))\n",
    "    ax[idx].semilogx(np.arange(NA)*ds, top*(1/ds)*(1/ds))\n",
    "    ax[idx].semilogx(np.arange(NA)*ds, bottom*(1/ds)*(1/ds))\n",
    "\n",
    "    ax[idx].set_xlim(0.1,100)\n",
    "    idx = idx + 1\n",
    "\n"
   ]
  },
  {
   "cell_type": "code",
   "execution_count": null,
   "metadata": {
    "collapsed": true
   },
   "outputs": [],
   "source": [
    "anim = 'R064'\n",
    "day = '2015-04-22'\n",
    "actual = RipEventData[anim][day]['ActualAutocorrelations']\n",
    "top = RipEventData[anim][day]['ShuffledAutocorrelations'][1]\n",
    "middle = RipEventData[anim][day]['ShuffledAutocorrelations'][0]\n",
    "bottom = RipEventData[anim][day]['ShuffledAutocorrelations'][2]\n",
    "\n",
    "fig, ax = plt.subplots(1,1,figsize=(10,10))\n",
    "ax.semilogx(np.arange(NA)*ds, actual*(1/ds)*(1/ds))\n",
    "ax.semilogx(np.arange(NA)*ds, top*(1/ds)*(1/ds))\n",
    "ax.semilogx(np.arange(NA)*ds, bottom*(1/ds)*(1/ds))\n",
    "\n",
    "ax.set_xlim(0.1,100)\n",
    "ax.set_ylim(-0.02,0.02)\n"
   ]
  }
 ],
 "metadata": {
  "anaconda-cloud": {},
  "kernelspec": {
   "display_name": "Python 3",
   "language": "python",
   "name": "python3"
  },
  "language_info": {
   "codemirror_mode": {
    "name": "ipython",
    "version": 3
   },
   "file_extension": ".py",
   "mimetype": "text/x-python",
   "name": "python",
   "nbconvert_exporter": "python",
   "pygments_lexer": "ipython3",
   "version": "3.6.3"
  }
 },
 "nbformat": 4,
 "nbformat_minor": 2
}
