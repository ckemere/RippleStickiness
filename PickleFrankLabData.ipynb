{
 "cells": [
  {
   "cell_type": "code",
   "execution_count": 21,
   "metadata": {
    "collapsed": true
   },
   "outputs": [],
   "source": [
    "import sys\n",
    "sys.path.append(\"/home/ckemere/Code/PythonDataAnalysis/Caleb/Tools\")\n",
    "import frank_lab"
   ]
  },
  {
   "cell_type": "code",
   "execution_count": 22,
   "metadata": {
    "collapsed": true
   },
   "outputs": [],
   "source": [
    "fileroot = '/home/ckemere/Data/Frank/';"
   ]
  },
  {
   "cell_type": "code",
   "execution_count": 23,
   "metadata": {},
   "outputs": [
    {
     "name": "stdout",
     "output_type": "stream",
     "text": [
      "[('Ten', '/home/ckemere/Data/Frank/Ten'), ('Bon', '/home/ckemere/Data/Frank/Bon'), ('Cor', '/home/ckemere/Data/Frank/Cor'), ('Con', '/home/ckemere/Data/Frank/Con'), ('Dud', '/home/ckemere/Data/Frank/Dud'), ('Fra', '/home/ckemere/Data/Frank/Fra'), ('Eig', '/home/ckemere/Data/Frank/Eig'), ('Fiv', '/home/ckemere/Data/Frank/Fiv'), ('Mil', '/home/ckemere/Data/Frank/Mil')]\n"
     ]
    }
   ],
   "source": [
    "import os\n",
    "anim_dirs = [(d, os.path.join(fileroot,d)) for d in os.listdir(fileroot) if os.path.isdir(os.path.join(fileroot,d))]\n",
    "print(anim_dirs)\n"
   ]
  },
  {
   "cell_type": "code",
   "execution_count": 24,
   "metadata": {},
   "outputs": [
    {
     "name": "stdout",
     "output_type": "stream",
     "text": [
      "Ten\n",
      "/home/ckemere/Data/Frank/Ten\n",
      "Bon\n",
      "/home/ckemere/Data/Frank/Bon\n",
      "Cor\n",
      "/home/ckemere/Data/Frank/Cor\n",
      "Con\n",
      "/home/ckemere/Data/Frank/Con\n",
      "Dud\n",
      "/home/ckemere/Data/Frank/Dud\n",
      "Fra\n",
      "/home/ckemere/Data/Frank/Fra\n",
      "Eig\n",
      "/home/ckemere/Data/Frank/Eig\n",
      "Fiv\n",
      "/home/ckemere/Data/Frank/Fiv\n",
      "Mil\n",
      "/home/ckemere/Data/Frank/Mil\n"
     ]
    }
   ],
   "source": [
    "for (anim, adir) in anim_dirs:\n",
    "    print(anim)\n",
    "    print(adir)"
   ]
  },
  {
   "cell_type": "code",
   "execution_count": 25,
   "metadata": {},
   "outputs": [
    {
     "name": "stdout",
     "output_type": "stream",
     "text": [
      "Loading tentask07.mat\n",
      "Loading tentask06.mat\n",
      "Loading tentask03.mat\n",
      "Loading tentask01.mat\n",
      "Loading tentask04.mat\n",
      "Loading tentask02.mat\n",
      "Loading tentask05.mat\n",
      "Loading bontask08.mat\n",
      "Loading bontask09.mat\n",
      "Loading bontask05.mat\n",
      "Loading bontask03.mat\n",
      "Loading bontask10.mat\n",
      "Loading bontask06.mat\n",
      "Loading bontask04.mat\n",
      "Loading bontask07.mat\n",
      "Loading Cortask06.mat\n",
      "Loading Cortask05.mat\n",
      "Loading Cortask09.mat\n",
      "Loading Cortask08.mat\n",
      "Loading Cortask07.mat\n",
      "Loading Cortask01.mat\n",
      "Loading Cortask03.mat\n",
      "Loading Cortask02.mat\n",
      "Loading Cortask04.mat\n",
      "Loading contask02.mat\n",
      "Loading contask05.mat\n",
      "Loading contask03.mat\n",
      "Loading contask04.mat\n",
      "Loading contask01.mat\n",
      "Loading contask06.mat\n",
      "Loading dudtask06.mat\n",
      "Loading dudtask03.mat\n",
      "Loading dudtask02.mat\n",
      "Loading dudtask04.mat\n",
      "Loading dudtask05.mat\n",
      "Loading dudtask01.mat\n",
      "Loading fratask03.mat\n",
      "Loading fratask06.mat\n",
      "Loading fratask02.mat\n",
      "Loading fratask05.mat\n",
      "Loading fratask11.mat\n",
      "Loading fratask10.mat\n",
      "Loading fratask07.mat\n",
      "Loading fratask09.mat\n",
      "Loading fratask04.mat\n",
      "Loading fratask08.mat\n",
      "Loading fratask12.mat\n",
      "Loading Eigtask06.mat\n",
      "Loading Eigtask03.mat\n",
      "Loading Eigtask07.mat\n",
      "Loading Eigtask01.mat\n",
      "Loading Eigtask05.mat\n",
      "Loading Eigtask04.mat\n",
      "Loading Eigtask02.mat\n",
      "Loading Fivtask08.mat\n",
      "Loading Fivtask07.mat\n",
      "Loading Fivtask01.mat\n",
      "Loading Fivtask03.mat\n",
      "Loading Fivtask04.mat\n",
      "Loading Fivtask06.mat\n",
      "Loading Fivtask09.mat\n",
      "Loading Fivtask02.mat\n",
      "Loading Fivtask05.mat\n",
      "Loading miltask01.mat\n",
      "Loading miltask04.mat\n",
      "Loading miltask02.mat\n",
      "Loading miltask05.mat\n",
      "Loading miltask03.mat\n"
     ]
    }
   ],
   "source": [
    "import pandas as pd\n",
    "\n",
    "#animals = ['Bon', 'Con', 'Fra', 'Dud', 'Fiv', 'Eig', 'Cor', 'Ten', 'Mil']\n",
    "#animals = [ 'Eig', 'Cor', 'Ten']\n",
    "animals = ['Bon','Con','Fra']\n",
    "\n",
    "# don't include Miles - his position is wierd\n",
    "#animals.remove('Mil')\n",
    "\n",
    "\n",
    "taskinfo = {}\n",
    "for (anim, adir) in anim_dirs:\n",
    "    taskinfo[anim] = frank_lab.load_data(adir, datatype='task')\n",
    "df = pd.DataFrame([])\n",
    "for anim in animals:\n",
    "    taskinfo[anim].insert(0,'Animal',anim)\n",
    "    df = df.append(taskinfo[anim], ignore_index=True)\n",
    "taskinfo = df"
   ]
  },
  {
   "cell_type": "code",
   "execution_count": 26,
   "metadata": {},
   "outputs": [
    {
     "name": "stdout",
     "output_type": "stream",
     "text": [
      "Loading tencellinfo.mat\n",
      "Loading boncellinfo.mat\n",
      "Loading Corcellinfo.mat\n",
      "Loading concellinfo.mat\n",
      "Loading dudcellinfo.mat\n",
      "Loading fracellinfo.mat\n",
      "Loading Eigcellinfo.mat\n",
      "Loading Fivcellinfo.mat\n",
      "Loading milcellinfo.mat\n"
     ]
    }
   ],
   "source": [
    "from ast import literal_eval \n",
    "\n",
    "cellinfo = {}\n",
    "for (anim, adir) in anim_dirs:\n",
    "    cellinfo[anim], _ = frank_lab.load_data(adir, datatype='cellinfo')\n",
    "\n",
    "df = pd.DataFrame([])\n",
    "for anim in animals:\n",
    "    cellinfo[anim].insert(0,'Animal',anim)\n",
    "    cellinfo[anim].index = cellinfo[anim].index.map(lambda x: str( (anim,) + literal_eval(x)))\n",
    "    df = df.append(cellinfo[anim])\n",
    "\n",
    "cellinfo = df"
   ]
  },
  {
   "cell_type": "code",
   "execution_count": 27,
   "metadata": {},
   "outputs": [
    {
     "data": {
      "image/png": "[encoded data removed]",
      "text/plain": [
       "<matplotlib.figure.Figure at 0x7f8f10ca0320>"
      ]
     },
     "metadata": {},
     "output_type": "display_data"
    }
   ],
   "source": [
    "import numpy as np\n",
    "\n",
    "import matplotlib.pyplot as plt\n",
    "import matplotlib.patches as mpatch\n",
    "%matplotlib inline\n",
    "\n",
    "import seaborn as sns\n",
    "sns.set(rc={'figure.figsize': (12, 4),'lines.linewidth': 2, 'font.size': 18, \n",
    "            'axes.labelsize': 16, 'legend.fontsize': 12, 'ytick.labelsize': 12, 'xtick.labelsize': 12 })\n",
    "sns.set_style('white')\n",
    "\n",
    "w = 0.25 # make patches a little less than 1/3rd to provide spacing\n",
    "h = 0.6\n",
    "dh = 0.4\n",
    "\n",
    "fig, ax = plt.subplots(figsize=(20, 5))\n",
    "\n",
    "rowidx = 0\n",
    "rownames = []\n",
    "for an in animals:\n",
    "    rownames.append(an)\n",
    "    tt = taskinfo.query('Animal==@an & type==\"run\"')\n",
    "    day_first_B = tt.query('description==\"TrackB\" & exposure == 1.0')['Day']\n",
    "\n",
    "    for index, row in tt.iterrows() :\n",
    "        # find first TrackA exposure for each day\n",
    "        day = row['Day'] - day_first_B\n",
    "        ep = row['Epoch'] // 2 # runs are always 1, 3, 5 - integer division gives us 0, 1, 2\n",
    "        x = day + ep / 3.5 # offset within day is by epoch\n",
    "        \n",
    "        if (row['description'] == 'TrackA'):\n",
    "            tag = '{:d}'.format(int(row['exposure']))\n",
    "            r = mpatch.Rectangle((x,rowidx + dh), w, h, color='grey')\n",
    "\n",
    "        else :\n",
    "            tag = '{:d}'.format(int(row['exposure']))\n",
    "            r = mpatch.Rectangle((x,rowidx + dh), w, h, color='darkseagreen')\n",
    "\n",
    "        ax.add_patch(r)\n",
    "        cx = x + w/2.0\n",
    "        cy = rowidx + dh + h/2.0\n",
    "\n",
    "        ax.annotate(tag, (cx, cy), color='w', weight='bold', \n",
    "                    fontsize=10, ha='center', va='center')\n",
    "\n",
    "\n",
    "        if (ep == 0):\n",
    "            dd = row['Day']\n",
    "            ncells = len(cellinfo.query('Animal==@an & Day==@dd & Epoch==0'))\n",
    "            rcells = mpatch.Rectangle((day,rowidx), 2/3.5 + w, dh, color='skyblue')\n",
    "            ax.add_patch(rcells)\n",
    "            cy = rowidx + dh/2.0\n",
    "\n",
    "            ax.annotate('{:d}'.format(ncells), (x + (2/3.5 + w)/2, cy), color='k', weight='bold', \n",
    "                        fontsize=10, ha='center', va='center')\n",
    "        \n",
    "    rowidx = rowidx + 1\n",
    "\n",
    "ax.autoscale_view(True,True,True)\n",
    "ax.set_yticks(np.arange(rowidx)+h/2)\n",
    "ax.set_xticks(np.arange(-5,11))\n",
    "ax.set_yticklabels(rownames)\n",
    "ax.xaxis.grid(True)\n",
    "ax.get_xgridlines()[0].set_linestyle('-.')\n",
    "plt.show()"
   ]
  },
  {
   "cell_type": "code",
   "execution_count": 28,
   "metadata": {
    "collapsed": true
   },
   "outputs": [],
   "source": [
    "import nelpy as nel\n",
    "import nelpy.io\n",
    "import nelpy.plotting as npl\n",
    "\n",
    "import warnings"
   ]
  },
  {
   "cell_type": "code",
   "execution_count": 29,
   "metadata": {},
   "outputs": [
    {
     "name": "stdout",
     "output_type": "stream",
     "text": [
      "Loading bonspikes08.mat\n",
      "Loading bonspikes09.mat\n",
      "Loading bonspikes05.mat\n",
      "Loading bonspikes03.mat\n",
      "Loading bonspikes10.mat\n",
      "Loading bonspikes06.mat\n",
      "Loading bonspikes04.mat\n",
      "Loading bonspikes07.mat\n",
      "Loading bonpos08.mat\n",
      "Loading bonpos09.mat\n",
      "Loading bonpos05.mat\n",
      "Loading bonpos03.mat\n",
      "Loading bonpos10.mat\n",
      "Loading bonpos06.mat\n",
      "Loading bonpos04.mat\n",
      "Loading bonpos07.mat\n"
     ]
    },
    {
     "name": "stderr",
     "output_type": "stream",
     "text": [
      "/home/ckemere/Code/nelpy/nelpy/core/_analogsignalarray.py:267: UserWarning: creating support from time and sampling rate, fs!\n"
     ]
    },
    {
     "name": "stdout",
     "output_type": "stream",
     "text": [
      "Day 2\n",
      "Day 3\n",
      "Day 4\n",
      "Day 5\n",
      "Day 6\n",
      "Day 7\n",
      "Day 8\n",
      "Day 9\n",
      "Loading conspikes02.mat\n",
      "Loading conspikes05.mat\n",
      "Loading conspikes03.mat\n",
      "Loading conspikes04.mat\n",
      "Loading conspikes01.mat\n",
      "Loading conspikes06.mat\n",
      "Loading conpos02.mat\n",
      "Loading conpos05.mat\n",
      "Loading conpos03.mat\n",
      "Loading conpos04.mat\n",
      "Loading conpos01.mat\n",
      "Loading conpos06.mat\n",
      "Day 0\n",
      "Day 1\n",
      "Day 2\n"
     ]
    },
    {
     "name": "stderr",
     "output_type": "stream",
     "text": [
      "/home/ckemere/Code/nelpy/nelpy/core/_analogsignalarray.py:239: UserWarning: Data is _not_ sorted! Data will be sorted automatically.\n",
      "/home/ckemere/Code/nelpy/nelpy/core/_spiketrain.py:887: UserWarning: ignoring spikes outside of spiketrain support\n"
     ]
    },
    {
     "name": "stdout",
     "output_type": "stream",
     "text": [
      "Day 3\n",
      "Day 4\n",
      "Day 5\n",
      "Loading fraspikes03.mat\n",
      "Loading fraspikes06.mat\n",
      "Loading fraspikes02.mat\n",
      "Loading fraspikes05.mat\n",
      "Loading fraspikes11.mat\n",
      "Loading fraspikes10.mat\n",
      "Loading fraspikes07.mat\n",
      "Loading fraspikes09.mat\n",
      "Loading fraspikes04.mat\n",
      "Loading fraspikes08.mat\n",
      "Loading fraspikes12.mat\n",
      "Loading frapos03.mat\n",
      "Loading frapos06.mat\n",
      "Loading frapos02.mat\n",
      "Loading frapos05.mat\n",
      "Loading frapos11.mat\n",
      "Loading frapos10.mat\n",
      "Loading frapos07.mat\n",
      "Loading frapos09.mat\n",
      "Loading frapos04.mat\n",
      "Loading frapos08.mat\n",
      "Loading frapos12.mat\n",
      "Day 1\n",
      "Day 2\n"
     ]
    },
    {
     "name": "stderr",
     "output_type": "stream",
     "text": [
      "/home/ckemere/anaconda3/lib/python3.6/site-packages/ipykernel_launcher.py:36: UserWarning: Number of epochs in support does not match task_metadata rows\n"
     ]
    },
    {
     "name": "stdout",
     "output_type": "stream",
     "text": [
      "Animal: Fra, Day: 3\n",
      "Day 3\n",
      "Day 4\n",
      "Day 5\n",
      "Day 6\n",
      "Day 7\n",
      "Day 8\n",
      "Day 9\n",
      "Day 10\n",
      "Day 11\n"
     ]
    }
   ],
   "source": [
    "data = dict()\n",
    "\n",
    "for anim in animals:\n",
    "    data[anim] = dict()\n",
    "    adir = next(d[1] for d in anim_dirs if d[0] == anim)\n",
    "    spikes = frank_lab.load_data(adir, datatype='spikes')\n",
    "    matpos = frank_lab.load_data(adir, datatype='pos')\n",
    "    posdf = (matpos.dropna(axis=0, subset=['time','x'])\n",
    "                   .groupby(['Day'], as_index=False)\n",
    "                   .agg({'time' : lambda x: tuple(x),\n",
    "                         'x' : lambda x: tuple(x),\n",
    "                         'y' : lambda x: tuple(x),\n",
    "                         'vel' : lambda x: tuple(x),\n",
    "                         'dir' : lambda x: tuple(x)\n",
    "                        }))\n",
    "    for var in ['time','x','y','vel','dir']:\n",
    "        posdf[var] = posdf[var].apply(np.hstack)\n",
    "    \n",
    "    for day in spikes['Day'].unique():\n",
    "        data[anim][day] = dict()\n",
    "        # Position data\n",
    "        pp = posdf.query('Day==@day')\n",
    "        pos = nel.AnalogSignalArray(np.vstack((pp.iloc[0].x, pp.iloc[0].y)), \n",
    "                                    timestamps=pp.iloc[0].time, fs=30)\n",
    "        pos._support = pos.support.merge(gap=3/30)\n",
    "        data[anim][day]['pos'] = pos\n",
    "\n",
    "        support = pos.support\n",
    "        \n",
    "        task_metadata = taskinfo.query('Animal==@anim & Day==@day')\n",
    "        task_metadata = task_metadata.merge(matpos.query('Day==@day')[['Epoch','cmperpixel']],how='outer',on=['Epoch'])\n",
    "        task_metadata.drop(['Animal','Day'],axis=1)\n",
    "        data[anim][day]['task_metadata'] = task_metadata\n",
    "        \n",
    "        if support.n_epochs != task_metadata.shape[0] :\n",
    "            warnings.warn('Number of epochs in support does not match task_metadata rows')\n",
    "            print('Animal: {}, Day: {}'.format(anim,day))\n",
    "            \n",
    "        spikedf = (spikes.query('Day==@day',inplace=False)\n",
    "                      .dropna(axis=0, subset=['spiketimes'])\n",
    "                      .groupby(['Tetrode','Cell'], as_index=False)\n",
    "                      .agg({'spiketimes': lambda x: tuple(x),\n",
    "                            'spikewidth' : lambda x: np.unique(list(x.dropna())) if list(x.dropna()) else None}))\n",
    "                                          \n",
    "        unit_ids = spikedf.index.tolist()\n",
    "        numspikes = []\n",
    "        timestamps = []\n",
    "        for idx, neuron in spikedf.iterrows() :\n",
    "            timestamps.append(np.hstack(neuron.spiketimes))\n",
    "            numspikes.append(len(np.hstack(neuron.spiketimes)))\n",
    "            \n",
    "        spikedf['numspikes'] = numspikes\n",
    "\n",
    "        cell_metadata = (cellinfo.query('Animal==@anim & Day==@day',inplace=False)\n",
    "            .groupby(['Tetrode','Cell'], as_index=False)\n",
    "            .agg({'area' : lambda x: np.unique(list(x.dropna())) if list(x.dropna()) else None}))\n",
    "                  #'layer' : lambda x: x.unique(),\n",
    "                  #'fs' : lambda x: None if x.last_valid_index() is None else x.loc[x.last_valid_index()]\n",
    "        print('Day', day)\n",
    "        cell_metadata = spikedf[['Tetrode','Cell','spikewidth','numspikes']].merge(cell_metadata, on=['Tetrode','Cell'])\n",
    "                \n",
    "        data[anim][day]['cell_metadata'] = cell_metadata\n",
    "\n",
    "        st = nel.SpikeTrainArray(timestamps, unit_ids=unit_ids,support=support, fs=10000)\n",
    "        data[anim][day]['spikes'] = st\n",
    "        "
   ]
  },
  {
   "cell_type": "code",
   "execution_count": 31,
   "metadata": {},
   "outputs": [
    {
     "name": "stdout",
     "output_type": "stream",
     "text": [
      "Loading tentetinfo.mat\n",
      "Loading bontetinfo.mat\n",
      "Loading Cortetinfo.mat\n",
      "Loading contetinfo.mat\n",
      "Loading dudtetinfo.mat\n",
      "Loading fratetinfo.mat\n",
      "Loading Eigtetinfo.mat\n",
      "Loading Fivtetinfo.mat\n",
      "Loading miltetinfo.mat\n"
     ]
    }
   ],
   "source": [
    "tetinfo = {}\n",
    "for (anim, adir) in anim_dirs:\n",
    "    tetinfo[anim],_ = frank_lab.load_data(adir, datatype='tetinfo')\n",
    "df = pd.DataFrame([])\n",
    "for anim in animals:\n",
    "    tetinfo[anim].insert(0,'Animal',anim)\n",
    "    df = df.append(tetinfo[anim], ignore_index=True)\n",
    "tetinfo = df"
   ]
  },
  {
   "cell_type": "code",
   "execution_count": 36,
   "metadata": {
    "collapsed": true
   },
   "outputs": [],
   "source": [
    "import nelpy.io\n",
    "#np.savez_compressed('FrankLabPickle.npz', data=data, cellinfo=cellinfo, taskinfo=taskinfo)\n",
    "FrankLabData = nel.ResultsContainer(data=data,\n",
    "                                    cellinfo=cellinfo,\n",
    "                                    taskinfo=taskinfo,\n",
    "                                    tetinfo=tetinfo,\n",
    "                                    description='Data from the lab of Loren Frank CRCNS archive.\\n')"
   ]
  },
  {
   "cell_type": "code",
   "execution_count": 38,
   "metadata": {
    "collapsed": true
   },
   "outputs": [],
   "source": [
    "FrankLabData.save_pkl('FrankLabData.nel')"
   ]
  },
  {
   "cell_type": "code",
   "execution_count": 12,
   "metadata": {
    "collapsed": true
   },
   "outputs": [],
   "source": [
    "#jar = nel.load_pkl('FrankLabData.nel')\n"
   ]
  }
 ],
 "metadata": {
  "kernelspec": {
   "display_name": "Python 3",
   "language": "python",
   "name": "python3"
  },
  "language_info": {
   "codemirror_mode": {
    "name": "ipython",
    "version": 3
   },
   "file_extension": ".py",
   "mimetype": "text/x-python",
   "name": "python",
   "nbconvert_exporter": "python",
   "pygments_lexer": "ipython3",
   "version": "3.6.2"
  }
 },
 "nbformat": 4,
 "nbformat_minor": 1
}
